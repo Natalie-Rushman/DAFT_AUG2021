{
 "cells": [
  {
   "cell_type": "code",
   "execution_count": 1,
   "id": "3dabe378",
   "metadata": {},
   "outputs": [],
   "source": [
    "from bs4 import BeautifulSoup"
   ]
  },
  {
   "cell_type": "code",
   "execution_count": 3,
   "id": "6c4f8d31",
   "metadata": {},
   "outputs": [
    {
     "ename": "SyntaxError",
     "evalue": "invalid syntax (<ipython-input-3-f90620237262>, line 1)",
     "output_type": "error",
     "traceback": [
      "\u001b[0;36m  File \u001b[0;32m\"<ipython-input-3-f90620237262>\"\u001b[0;36m, line \u001b[0;32m1\u001b[0m\n\u001b[0;31m    <html>\u001b[0m\n\u001b[0m    ^\u001b[0m\n\u001b[0;31mSyntaxError\u001b[0m\u001b[0;31m:\u001b[0m invalid syntax\n"
     ]
    }
   ],
   "source": [
    "html doc \n",
    "<!DOCTYPE html>\n",
    "<html>\n",
    "<head>\n",
    "<title>Page Title</title>\n",
    "</head>\n",
    "<body>\n",
    "\n",
    "<h1>This is a Heading</h1>\n",
    "<p>This is a paragraph.</p>\n",
    "\n",
    "</body>\n",
    "</html> "
   ]
  },
  {
   "cell_type": "code",
   "execution_count": null,
   "id": "25aecaaa",
   "metadata": {},
   "outputs": [],
   "source": [
    "soup = BeautifulSoup()"
   ]
  },
  {
   "cell_type": "code",
   "execution_count": null,
   "id": "28b52b04",
   "metadata": {},
   "outputs": [],
   "source": [
    "soup.prettify()"
   ]
  },
  {
   "cell_type": "code",
   "execution_count": null,
   "id": "8cff2d30",
   "metadata": {},
   "outputs": [],
   "source": [
    "soup.title"
   ]
  },
  {
   "cell_type": "code",
   "execution_count": null,
   "id": "e96b3275",
   "metadata": {},
   "outputs": [],
   "source": [
    "soup.title.string"
   ]
  },
  {
   "cell_type": "code",
   "execution_count": null,
   "id": "a9b256e1",
   "metadata": {},
   "outputs": [],
   "source": [
    "soup.body.get_text()"
   ]
  },
  {
   "cell_type": "code",
   "execution_count": null,
   "id": "6aaa1c34",
   "metadata": {},
   "outputs": [],
   "source": [
    "for p in soup.body.find_all(\"p\"):\n",
    "    print(p)"
   ]
  },
  {
   "cell_type": "code",
   "execution_count": null,
   "id": "046ab30b",
   "metadata": {},
   "outputs": [],
   "source": [
    "len(soup.body.find_all(\"p\"))"
   ]
  },
  {
   "cell_type": "code",
   "execution_count": null,
   "id": "f0d256f0",
   "metadata": {},
   "outputs": [],
   "source": [
    "soup.select(\".title\")"
   ]
  },
  {
   "cell_type": "code",
   "execution_count": null,
   "id": "3300376d",
   "metadata": {},
   "outputs": [],
   "source": [
    "url = \"https://www.imdb.com/chart/top\"\n",
    "response = request.get(url)"
   ]
  },
  {
   "cell_type": "raw",
   "id": "a2aa75d3",
   "metadata": {},
   "source": []
  }
 ],
 "metadata": {
  "kernelspec": {
   "display_name": "Python 3",
   "language": "python",
   "name": "python3"
  },
  "language_info": {
   "codemirror_mode": {
    "name": "ipython",
    "version": 3
   },
   "file_extension": ".py",
   "mimetype": "text/x-python",
   "name": "python",
   "nbconvert_exporter": "python",
   "pygments_lexer": "ipython3",
   "version": "3.9.6"
  }
 },
 "nbformat": 4,
 "nbformat_minor": 5
}
