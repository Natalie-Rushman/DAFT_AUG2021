{
 "cells": [
  {
   "cell_type": "code",
   "execution_count": 1,
   "id": "43b314b7",
   "metadata": {},
   "outputs": [],
   "source": [
    "import pandas as pd"
   ]
  },
  {
   "cell_type": "code",
   "execution_count": 3,
   "id": "c9d1575b",
   "metadata": {},
   "outputs": [
    {
     "name": "stdout",
     "output_type": "stream",
     "text": [
      "# packages in environment at /opt/anaconda3/envs/DA_new:\n",
      "#\n",
      "# Name                    Version                   Build  Channel\n",
      "appnope                   0.1.2           py39hecd8cb5_1001  \n",
      "argon2-cffi               20.1.0           py39h9ed2024_1  \n",
      "async_generator           1.10               pyhd3eb1b0_0  \n",
      "attrs                     21.2.0             pyhd3eb1b0_0  \n",
      "backcall                  0.2.0              pyhd3eb1b0_0  \n",
      "blas                      1.0                         mkl  \n",
      "bleach                    4.0.0              pyhd3eb1b0_0  \n",
      "bottleneck                1.3.2            py39he3068b8_1  \n",
      "ca-certificates           2021.7.5             hecd8cb5_1  \n",
      "certifi                   2021.5.30        py39hecd8cb5_0  \n",
      "cffi                      1.14.6           py39h2125817_0  \n",
      "decorator                 5.0.9              pyhd3eb1b0_0  \n",
      "defusedxml                0.7.1              pyhd3eb1b0_0  \n",
      "entrypoints               0.3              py39hecd8cb5_0  \n",
      "icu                       58.2                 h0a44026_3  \n",
      "importlib-metadata        3.10.0           py39hecd8cb5_0  \n",
      "importlib_metadata        3.10.0               hd3eb1b0_0  \n",
      "intel-openmp              2021.3.0          hecd8cb5_3375  \n",
      "ipykernel                 5.3.4            py39h01d92e1_0  \n",
      "ipython                   7.26.0           py39h01d92e1_0  \n",
      "ipython_genutils          0.2.0              pyhd3eb1b0_1  \n",
      "ipywidgets                7.6.3              pyhd3eb1b0_1  \n",
      "jedi                      0.18.0           py39hecd8cb5_1  \n",
      "jinja2                    3.0.1              pyhd3eb1b0_0  \n",
      "jpeg                      9b                   he5867d9_2  \n",
      "jsonschema                3.2.0                      py_2  \n",
      "jupyter                   1.0.0            py39hecd8cb5_7  \n",
      "jupyter_client            6.1.12             pyhd3eb1b0_0  \n",
      "jupyter_console           6.4.0              pyhd3eb1b0_0  \n",
      "jupyter_core              4.7.1            py39hecd8cb5_0  \n",
      "jupyterlab_pygments       0.1.2                      py_0  \n",
      "jupyterlab_widgets        1.0.0              pyhd3eb1b0_1  \n",
      "libcxx                    10.0.0                        1  \n",
      "libffi                    3.3                  hb1e8313_2  \n",
      "libpng                    1.6.37               ha441bb4_0  \n",
      "libsodium                 1.0.18               h1de35cc_0  \n",
      "markupsafe                2.0.1            py39h9ed2024_0  \n",
      "matplotlib-inline         0.1.2              pyhd3eb1b0_2  \n",
      "mistune                   0.8.4           py39h9ed2024_1000  \n",
      "mkl                       2021.3.0           hecd8cb5_517  \n",
      "mkl-service               2.4.0            py39h9ed2024_0  \n",
      "mkl_fft                   1.3.0            py39h4a7008c_2  \n",
      "mkl_random                1.2.2            py39hb2f4e1b_0  \n",
      "nbclient                  0.5.3              pyhd3eb1b0_0  \n",
      "nbconvert                 6.1.0            py39hecd8cb5_0  \n",
      "nbformat                  5.1.3              pyhd3eb1b0_0  \n",
      "ncurses                   6.2                  h0a44026_1  \n",
      "nest-asyncio              1.5.1              pyhd3eb1b0_0  \n",
      "notebook                  6.4.2            py39hecd8cb5_0  \n",
      "numexpr                   2.7.3            py39h5873af2_1  \n",
      "numpy                     1.20.3           py39h4b4dc7a_0  \n",
      "numpy-base                1.20.3           py39he0bd621_0  \n",
      "openssl                   1.1.1k               h9ed2024_0  \n",
      "packaging                 21.0               pyhd3eb1b0_0  \n",
      "pandas                    1.3.1            py39h5008ddb_0  \n",
      "pandocfilters             1.4.3            py39hecd8cb5_1  \n",
      "parso                     0.8.2              pyhd3eb1b0_0  \n",
      "pexpect                   4.8.0              pyhd3eb1b0_3  \n",
      "pickleshare               0.7.5           pyhd3eb1b0_1003  \n",
      "pip                       21.2.3           py36hecd8cb5_0  \n",
      "prometheus_client         0.11.0             pyhd3eb1b0_0  \n",
      "prompt-toolkit            3.0.17             pyh06a4308_0  \n",
      "prompt_toolkit            3.0.17               hd3eb1b0_0  \n",
      "ptyprocess                0.7.0              pyhd3eb1b0_2  \n",
      "pycparser                 2.20                       py_2  \n",
      "pygments                  2.9.0              pyhd3eb1b0_0  \n",
      "pyparsing                 2.4.7              pyhd3eb1b0_0  \n",
      "pyqt                      5.9.2            py39h23ab428_6  \n",
      "pyrsistent                0.18.0           py39h9ed2024_0  \n",
      "python                    3.9.6                h88f2d9e_0  \n",
      "python-dateutil           2.8.2              pyhd3eb1b0_0  \n",
      "pytz                      2021.1             pyhd3eb1b0_0  \n",
      "pyzmq                     22.2.1           py39h23ab428_1  \n",
      "qt                        5.9.7                h468cd18_1  \n",
      "qtconsole                 5.1.0              pyhd3eb1b0_0  \n",
      "qtpy                      1.9.0                      py_0  \n",
      "readline                  8.1                  h9ed2024_0  \n",
      "send2trash                1.5.0              pyhd3eb1b0_1  \n",
      "setuptools                52.0.0           py39hecd8cb5_0  \n",
      "sip                       4.19.13          py39h23ab428_0  \n",
      "six                       1.16.0             pyhd3eb1b0_0  \n",
      "sqlite                    3.36.0               hce871da_0  \n",
      "terminado                 0.9.4            py39hecd8cb5_0  \n",
      "testpath                  0.5.0              pyhd3eb1b0_0  \n",
      "tk                        8.6.10               hb0a8c7a_0  \n",
      "tornado                   6.1              py39h9ed2024_0  \n",
      "traitlets                 5.0.5              pyhd3eb1b0_0  \n",
      "tzdata                    2021a                h5d7bf9c_0  \n",
      "wcwidth                   0.2.5                      py_0  \n",
      "webencodings              0.5.1            py39hecd8cb5_1  \n",
      "wheel                     0.37.0             pyhd3eb1b0_0  \n",
      "widgetsnbextension        3.5.1            py39hecd8cb5_0  \n",
      "xz                        5.2.5                h1de35cc_0  \n",
      "zeromq                    4.3.4                h23ab428_0  \n",
      "zipp                      3.5.0              pyhd3eb1b0_0  \n",
      "zlib                      1.2.11               h1de35cc_3  \n",
      "\n",
      "Note: you may need to restart the kernel to use updated packages.\n"
     ]
    }
   ],
   "source": [
    "conda list "
   ]
  },
  {
   "cell_type": "code",
   "execution_count": 5,
   "id": "fae57b08",
   "metadata": {},
   "outputs": [],
   "source": [
    "import seaborn as sns"
   ]
  },
  {
   "cell_type": "code",
   "execution_count": 4,
   "id": "d5a2b9db",
   "metadata": {},
   "outputs": [],
   "source": [
    "import matplotlib.pyplot as plt"
   ]
  },
  {
   "cell_type": "code",
   "execution_count": 2,
   "id": "4e50a7f5",
   "metadata": {},
   "outputs": [
    {
     "ename": "NameError",
     "evalue": "name 'students' is not defined",
     "output_type": "error",
     "traceback": [
      "\u001b[0;31m---------------------------------------------------------------------------\u001b[0m",
      "\u001b[0;31mNameError\u001b[0m                                 Traceback (most recent call last)",
      "\u001b[0;32m<ipython-input-2-ec6facabd2b8>\u001b[0m in \u001b[0;36m<module>\u001b[0;34m\u001b[0m\n\u001b[0;32m----> 1\u001b[0;31m \u001b[0mstudents\u001b[0m\u001b[0;34m.\u001b[0m\u001b[0mdf\u001b[0m\u001b[0;34m.\u001b[0m\u001b[0mage\u001b[0m\u001b[0;34m>\u001b[0m\u001b[0;36m40\u001b[0m \u001b[0;31m### Boolian to test\u001b[0m\u001b[0;34m\u001b[0m\u001b[0;34m\u001b[0m\u001b[0m\n\u001b[0m",
      "\u001b[0;31mNameError\u001b[0m: name 'students' is not defined"
     ]
    }
   ],
   "source": [
    "students.df.age>40 ### Boolian to test"
   ]
  },
  {
   "cell_type": "code",
   "execution_count": 3,
   "id": "4975f381",
   "metadata": {},
   "outputs": [],
   "source": [
    "import numpy as np"
   ]
  },
  {
   "cell_type": "code",
   "execution_count": 4,
   "id": "1eb699bd",
   "metadata": {},
   "outputs": [
    {
     "ename": "SyntaxError",
     "evalue": "cannot assign to function call (<ipython-input-4-ef9ffc07f3d3>, line 1)",
     "output_type": "error",
     "traceback": [
      "\u001b[0;36m  File \u001b[0;32m\"<ipython-input-4-ef9ffc07f3d3>\"\u001b[0;36m, line \u001b[0;32m1\u001b[0m\n\u001b[0;31m    df_Wed(\"y\")=|1,2,np.nan,4,5])\u001b[0m\n\u001b[0m    ^\u001b[0m\n\u001b[0;31mSyntaxError\u001b[0m\u001b[0;31m:\u001b[0m cannot assign to function call\n"
     ]
    }
   ],
   "source": [
    "df_Wed(\"y\")=|1,2,np.nan,4,5])"
   ]
  },
  {
   "cell_type": "code",
   "execution_count": null,
   "id": "c0ed652d",
   "metadata": {},
   "outputs": [],
   "source": []
  }
 ],
 "metadata": {
  "kernelspec": {
   "display_name": "Python 3",
   "language": "python",
   "name": "python3"
  },
  "language_info": {
   "codemirror_mode": {
    "name": "ipython",
    "version": 3
   },
   "file_extension": ".py",
   "mimetype": "text/x-python",
   "name": "python",
   "nbconvert_exporter": "python",
   "pygments_lexer": "ipython3",
   "version": "3.8.8"
  }
 },
 "nbformat": 4,
 "nbformat_minor": 5
}
