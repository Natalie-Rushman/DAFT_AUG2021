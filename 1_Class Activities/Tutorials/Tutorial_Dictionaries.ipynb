{
 "cells": [
  {
   "cell_type": "markdown",
   "id": "54b545e3",
   "metadata": {},
   "source": [
    "## {Dictionaries}"
   ]
  },
  {
   "cell_type": "markdown",
   "id": "63f4d8f5",
   "metadata": {},
   "source": [
    "* [Access](#access)\n",
    "* [Changes](#changes)\n",
    "* [Adding](#adding)\n",
    "* [Removing](#removing)\n",
    "* [Clearing values](#clear_values)\n",
    "* [Loops](#looping)"
   ]
  },
  {
   "cell_type": "markdown",
   "id": "97e64133",
   "metadata": {},
   "source": [
    "- data values in key:value pairs\n",
    "- changeable\n",
    "- no duplicates\n",
    "- String, int, boolean, and list data types\n",
    "- type = <class 'dict'> "
   ]
  },
  {
   "cell_type": "code",
   "execution_count": 2,
   "id": "9e31c09f",
   "metadata": {},
   "outputs": [],
   "source": [
    "my_dictionary =\t{\n",
    "  \"Name\": \"Diana\",\n",
    "  \"profession\": \"Ironhack student\",\n",
    "  \"age\": 42\n",
    "}"
   ]
  },
  {
   "cell_type": "code",
   "execution_count": 3,
   "id": "00febcd1",
   "metadata": {},
   "outputs": [
    {
     "name": "stdout",
     "output_type": "stream",
     "text": [
      "{'Name': 'Diana', 'profession': 'Ironhack student', 'age': 42}\n"
     ]
    }
   ],
   "source": [
    "print(my_dictionary)"
   ]
  },
  {
   "cell_type": "code",
   "execution_count": 4,
   "id": "3236c0df",
   "metadata": {},
   "outputs": [
    {
     "name": "stdout",
     "output_type": "stream",
     "text": [
      "3\n"
     ]
    }
   ],
   "source": [
    "print(len(my_dictionary))"
   ]
  },
  {
   "cell_type": "markdown",
   "id": "00b194ec",
   "metadata": {},
   "source": [
    "### Access to the items (key, value) <a class = \"anchor\" id='access'></a>"
   ]
  },
  {
   "cell_type": "code",
   "execution_count": 15,
   "id": "f6cc6658",
   "metadata": {},
   "outputs": [
    {
     "name": "stdout",
     "output_type": "stream",
     "text": [
      "The value of a certain key:  Ironhack student\n",
      "The value of a certain key:  Ironhack student\n",
      "All keys:  dict_keys(['Name', 'profession', 'age'])\n",
      "All values:  dict_values(['Diana', 'Ironhack student', 42])\n",
      "All items:  dict_items([('Name', 'Diana'), ('profession', 'Ironhack student'), ('age', 42)])\n",
      "Yes, the category 'name' is in the dictionary.\n"
     ]
    }
   ],
   "source": [
    "x = my_dictionary[\"profession\"] # edgy brackets to get the keys/values\n",
    "print(\"The value of a certain key: \", x)\n",
    "\n",
    "y = my_dictionary.get(\"profession\") # alternative: get + round brackets\n",
    "print(\"The value of a certain key: \", y)\n",
    "\n",
    "all_keys = my_dictionary.keys()\n",
    "print(\"All keys: \", all_keys)\n",
    "\n",
    "all_values = my_dictionary.values()\n",
    "print(\"All values: \", all_values)\n",
    "\n",
    "all_items = my_dictionary.items()\n",
    "print(\"All items: \", all_items)\n",
    "\n",
    "if \"Name\" in my_dictionary:\n",
    "    print(\"Yes, the category 'name' is in the dictionary.\")"
   ]
  },
  {
   "cell_type": "markdown",
   "id": "0c8346fd",
   "metadata": {},
   "source": [
    "### Changes <a class = \"anchor\" id='changes'></a>"
   ]
  },
  {
   "cell_type": "code",
   "execution_count": 26,
   "id": "61c1798f",
   "metadata": {},
   "outputs": [
    {
     "name": "stdout",
     "output_type": "stream",
     "text": [
      "New Name:  Isabella\n"
     ]
    }
   ],
   "source": [
    "my_dictionary[\"Name\"] = \"Isabella\" # name_of_dictionary[key] = value\n",
    "new_name = my_dictionary[\"Name\"] # edgy brackets\n",
    "print(\"New Name: \", new_name)"
   ]
  },
  {
   "cell_type": "code",
   "execution_count": 29,
   "id": "5d8fa65b",
   "metadata": {},
   "outputs": [
    {
     "name": "stdout",
     "output_type": "stream",
     "text": [
      "New profession:  Data Analyst\n"
     ]
    }
   ],
   "source": [
    "my_dictionary.update({\"profession\": \"Data Analyst\"}) # .update({key:value})\n",
    "new_profession = my_dictionary[\"profession\"]\n",
    "print(\"New profession: \", new_profession)"
   ]
  },
  {
   "cell_type": "code",
   "execution_count": 30,
   "id": "adf7b4d9",
   "metadata": {},
   "outputs": [
    {
     "name": "stdout",
     "output_type": "stream",
     "text": [
      "dict_items([('Name', 'Isabella'), ('profession', 'Data Analyst'), ('age', 42), ('profession:', 'Data Analyst')])\n"
     ]
    }
   ],
   "source": [
    "print(all_items)"
   ]
  },
  {
   "cell_type": "markdown",
   "id": "543c2dae",
   "metadata": {},
   "source": [
    "### Adding and updating <a class = \"anchor\" id='adding'></a>"
   ]
  },
  {
   "cell_type": "code",
   "execution_count": 34,
   "id": "7c694506",
   "metadata": {},
   "outputs": [
    {
     "name": "stdout",
     "output_type": "stream",
     "text": [
      "{'Name': 'Isabella', 'profession': 'Data Analyst', 'age': 42, 'profession:': 'Data Analyst', 'Status': 'beginner', 'Goal': 'professional'}\n"
     ]
    }
   ],
   "source": [
    "my_dictionary[\"Status\"] = \"beginner\" # name_of_dictionary[key] = value\n",
    "my_dictionary.update({\"Goal\": \"professional\"}) # .update({key:value})\n",
    "print(my_dictionary)"
   ]
  },
  {
   "cell_type": "markdown",
   "id": "df3d8749",
   "metadata": {},
   "source": [
    "### Removing <a class = \"anchor\" id='removing'></a>"
   ]
  },
  {
   "cell_type": "code",
   "execution_count": 36,
   "id": "a0682fb2",
   "metadata": {},
   "outputs": [
    {
     "name": "stdout",
     "output_type": "stream",
     "text": [
      "dict_items([('Name', 'Isabella'), ('profession', 'Data Analyst'), ('age', 42), ('profession:', 'Data Analyst'), ('Goal', 'professional')])\n"
     ]
    }
   ],
   "source": [
    "my_dictionary.pop(\"Status\") # removes specific item\n",
    "print(all_items)"
   ]
  },
  {
   "cell_type": "code",
   "execution_count": 37,
   "id": "e1e5f47b",
   "metadata": {},
   "outputs": [
    {
     "name": "stdout",
     "output_type": "stream",
     "text": [
      "dict_items([('Name', 'Isabella'), ('profession', 'Data Analyst'), ('age', 42), ('profession:', 'Data Analyst')])\n"
     ]
    }
   ],
   "source": [
    "my_dictionary.popitem() # removes last item\n",
    "print(all_items)"
   ]
  },
  {
   "cell_type": "code",
   "execution_count": 39,
   "id": "a435f409",
   "metadata": {},
   "outputs": [
    {
     "name": "stdout",
     "output_type": "stream",
     "text": [
      "dict_items([('Name', 'Isabella'), ('profession', 'Data Analyst'), ('profession:', 'Data Analyst')])\n"
     ]
    }
   ],
   "source": [
    "del my_dictionary[\"age\"] # removes specific item\n",
    "print(all_items)"
   ]
  },
  {
   "cell_type": "markdown",
   "id": "3a27fb8d",
   "metadata": {},
   "source": [
    "### Clear all values <a class = \"anchor\" id='clear_values'></a>"
   ]
  },
  {
   "cell_type": "code",
   "execution_count": 41,
   "id": "480884c6",
   "metadata": {},
   "outputs": [
    {
     "name": "stdout",
     "output_type": "stream",
     "text": [
      "dict_items([])\n"
     ]
    }
   ],
   "source": [
    "my_dictionary.clear()\n",
    "print(all_items)"
   ]
  },
  {
   "cell_type": "code",
   "execution_count": 42,
   "id": "1e0d8c64",
   "metadata": {},
   "outputs": [],
   "source": [
    "### delete all dicitonary: del my_dicitonary ###"
   ]
  },
  {
   "cell_type": "markdown",
   "id": "97628a8f",
   "metadata": {},
   "source": [
    "### Loop through a dictionary <a class = \"anchor\" id='looping'></a>"
   ]
  },
  {
   "cell_type": "code",
   "execution_count": 51,
   "id": "69198c42",
   "metadata": {},
   "outputs": [
    {
     "name": "stdout",
     "output_type": "stream",
     "text": [
      "Name\n",
      "profession\n",
      "age\n",
      "Name\n",
      "profession\n",
      "age\n",
      "Diana\n",
      "Ironhack student\n",
      "42\n",
      "Diana\n",
      "Ironhack student\n",
      "42\n",
      "Name Diana\n",
      "profession Ironhack student\n",
      "age 42\n"
     ]
    }
   ],
   "source": [
    "my_dictionary =\t{\n",
    "  \"Name\": \"Diana\",\n",
    "  \"profession\": \"Ironhack student\",\n",
    "  \"age\": 42\n",
    "}\n",
    "\n",
    "for w in my_dictionary.keys(): ## all keys\n",
    "    print(w)\n",
    "    \n",
    "for x in my_dictionary:\n",
    "    print(x) ### all keys\n",
    "\n",
    "for y in my_dictionary:\n",
    "    print(my_dictionary[y]) ### all values\n",
    "\n",
    "for z in my_dictionary.values(): ## all keys\n",
    "    print(z)\n",
    "\n",
    "for k, v in my_dictionary.items(): ### all items\n",
    "    print(k, v)"
   ]
  },
  {
   "cell_type": "code",
   "execution_count": null,
   "id": "09650d96",
   "metadata": {},
   "outputs": [],
   "source": []
  }
 ],
 "metadata": {
  "kernelspec": {
   "display_name": "Python 3",
   "language": "python",
   "name": "python3"
  },
  "language_info": {
   "codemirror_mode": {
    "name": "ipython",
    "version": 3
   },
   "file_extension": ".py",
   "mimetype": "text/x-python",
   "name": "python",
   "nbconvert_exporter": "python",
   "pygments_lexer": "ipython3",
   "version": "3.8.8"
  }
 },
 "nbformat": 4,
 "nbformat_minor": 5
}
