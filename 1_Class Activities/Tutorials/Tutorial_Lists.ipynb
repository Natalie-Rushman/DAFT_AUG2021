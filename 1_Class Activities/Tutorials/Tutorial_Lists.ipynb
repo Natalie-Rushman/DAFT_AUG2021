{
 "cells": [
  {
   "cell_type": "markdown",
   "id": "f67bc697",
   "metadata": {},
   "source": [
    "# [Lists]"
   ]
  },
  {
   "cell_type": "markdown",
   "id": "0673af36",
   "metadata": {},
   "source": [
    "- changeable\n",
    "- ordered\n",
    "- duplicates are possible"
   ]
  },
  {
   "cell_type": "code",
   "execution_count": null,
   "id": "b8e7fd06",
   "metadata": {},
   "outputs": [],
   "source": []
  },
  {
   "cell_type": "markdown",
   "id": "4942ca48",
   "metadata": {},
   "source": [
    "### List Constructor list()"
   ]
  },
  {
   "cell_type": "code",
   "execution_count": 13,
   "id": "16251468",
   "metadata": {},
   "outputs": [],
   "source": [
    "list((\"item\", 6, True)) ## creates a list with concrete items but no name\n",
    "list_2 = () ## creates an empty list"
   ]
  },
  {
   "cell_type": "markdown",
   "id": "cd57fde5",
   "metadata": {},
   "source": [
    "### Index"
   ]
  },
  {
   "cell_type": "code",
   "execution_count": 12,
   "id": "80895076",
   "metadata": {},
   "outputs": [
    {
     "name": "stdout",
     "output_type": "stream",
     "text": [
      "['cherry', 'orange']\n",
      "['apple', 'banana', 'cherry', 'orange', 'kiwi']\n",
      "mango\n",
      "yes\n"
     ]
    }
   ],
   "source": [
    "list_3 = [\"apple\", \"banana\", \"cherry\", \"orange\", \"kiwi\", \"melon\", \"mango\"]\n",
    "print(list_3[2:4]) ## range in square brackets indicates item index excluding the last indicated one \n",
    "print(list_3[:5]) ## from 0 through 4\n",
    "print(list_3[-1]) ## last one\n",
    "\n",
    "if \"apple\" in list_3: ## check for items\n",
    "    print(\"yes\")"
   ]
  },
  {
   "cell_type": "markdown",
   "id": "89c3cb38",
   "metadata": {},
   "source": [
    "### Change items"
   ]
  },
  {
   "cell_type": "code",
   "execution_count": 6,
   "id": "24f68c8b",
   "metadata": {},
   "outputs": [
    {
     "name": "stdout",
     "output_type": "stream",
     "text": [
      "['apple', 'banana', 'carrot', 'orange', 'kiwi', 'melon', 'mango']\n"
     ]
    }
   ],
   "source": [
    "list_3[2] = \"carrot\" ## via indexing\n",
    "print(list_3)"
   ]
  },
  {
   "cell_type": "code",
   "execution_count": 7,
   "id": "9dbb4e38",
   "metadata": {},
   "outputs": [
    {
     "name": "stdout",
     "output_type": "stream",
     "text": [
      "['apple', 'banana', 'strawberry', 'carrot', 'orange', 'kiwi', 'melon', 'mango']\n"
     ]
    }
   ],
   "source": [
    "list_3.insert(2, \"strawberry\") ## index referring to the 'where'\n",
    "print(list_3)"
   ]
  },
  {
   "cell_type": "code",
   "execution_count": 8,
   "id": "7d5e4feb",
   "metadata": {},
   "outputs": [
    {
     "name": "stdout",
     "output_type": "stream",
     "text": [
      "['apple', 'banana', 'strawberry', 'carrot', 'orange', 'kiwi', 'melon', 'mango', 'blackberry']\n"
     ]
    }
   ],
   "source": [
    "list_3.append(\"blackberry\") ## adding an item at the end of the list\n",
    "print(list_3)"
   ]
  },
  {
   "cell_type": "code",
   "execution_count": 9,
   "id": "6da5af59",
   "metadata": {},
   "outputs": [
    {
     "ename": "NameError",
     "evalue": "name 'list_3' is not defined",
     "output_type": "error",
     "traceback": [
      "\u001b[0;31m---------------------------------------------------------------------------\u001b[0m",
      "\u001b[0;31mNameError\u001b[0m                                 Traceback (most recent call last)",
      "\u001b[0;32m<ipython-input-9-b4a65626947d>\u001b[0m in \u001b[0;36m<module>\u001b[0;34m\u001b[0m\n\u001b[1;32m      1\u001b[0m \u001b[0mlist_4\u001b[0m \u001b[0;34m=\u001b[0m \u001b[0;34m[\u001b[0m\u001b[0;34m\"zucchini\"\u001b[0m\u001b[0;34m,\u001b[0m \u001b[0;34m\"aubergine\"\u001b[0m\u001b[0;34m]\u001b[0m\u001b[0;34m\u001b[0m\u001b[0;34m\u001b[0m\u001b[0m\n\u001b[1;32m      2\u001b[0m \u001b[0mtuple_1\u001b[0m \u001b[0;34m=\u001b[0m \u001b[0;34m(\u001b[0m\u001b[0;36m3\u001b[0m\u001b[0;34m,\u001b[0m \u001b[0;36m6\u001b[0m\u001b[0;34m)\u001b[0m\u001b[0;34m\u001b[0m\u001b[0;34m\u001b[0m\u001b[0m\n\u001b[0;32m----> 3\u001b[0;31m \u001b[0mlist_3\u001b[0m\u001b[0;34m.\u001b[0m\u001b[0mextend\u001b[0m\u001b[0;34m(\u001b[0m\u001b[0mlist_4\u001b[0m\u001b[0;34m)\u001b[0m \u001b[0;31m## extend a list with another list\u001b[0m\u001b[0;34m\u001b[0m\u001b[0;34m\u001b[0m\u001b[0m\n\u001b[0m\u001b[1;32m      4\u001b[0m \u001b[0mprint\u001b[0m\u001b[0;34m(\u001b[0m\u001b[0mlist_5\u001b[0m\u001b[0;34m)\u001b[0m\u001b[0;34m\u001b[0m\u001b[0;34m\u001b[0m\u001b[0m\n",
      "\u001b[0;31mNameError\u001b[0m: name 'list_3' is not defined"
     ]
    }
   ],
   "source": [
    "list_4 = [\"zucchini\", \"aubergine\"]\n",
    "tuple_1 = (3, 6)\n",
    "list_3.extend(list_4) ## extend a list with another list\n",
    "print(list_5)"
   ]
  },
  {
   "cell_type": "code",
   "execution_count": 8,
   "id": "7ba688ae",
   "metadata": {},
   "outputs": [
    {
     "name": "stdout",
     "output_type": "stream",
     "text": [
      "['zucchini', 'aubergine', 3, 6]\n"
     ]
    }
   ],
   "source": [
    "list_4.extend(tuple_1) ## extend a list with another tuple\n",
    "print(list_4)"
   ]
  },
  {
   "cell_type": "code",
   "execution_count": null,
   "id": "fc2f23e5",
   "metadata": {},
   "outputs": [],
   "source": []
  }
 ],
 "metadata": {
  "kernelspec": {
   "display_name": "Python 3",
   "language": "python",
   "name": "python3"
  },
  "language_info": {
   "codemirror_mode": {
    "name": "ipython",
    "version": 3
   },
   "file_extension": ".py",
   "mimetype": "text/x-python",
   "name": "python",
   "nbconvert_exporter": "python",
   "pygments_lexer": "ipython3",
   "version": "3.9.6"
  }
 },
 "nbformat": 4,
 "nbformat_minor": 5
}
