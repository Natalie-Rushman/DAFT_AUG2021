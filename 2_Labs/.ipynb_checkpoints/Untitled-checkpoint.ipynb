{
 "cells": [
  {
   "cell_type": "markdown",
   "id": "ad33f38e",
   "metadata": {},
   "source": [
    "# Data Cleaning"
   ]
  },
  {
   "cell_type": "code",
   "execution_count": 3,
   "id": "e7a7fff7",
   "metadata": {},
   "outputs": [],
   "source": [
    "### import pandas\n",
    "import pandas as pd"
   ]
  },
  {
   "cell_type": "code",
   "execution_count": 4,
   "id": "be035921",
   "metadata": {},
   "outputs": [],
   "source": [
    "### read the file\n",
    "df = pd.read_csv(\"mtcars.csv\")"
   ]
  },
  {
   "cell_type": "code",
   "execution_count": 5,
   "id": "65d47b39",
   "metadata": {},
   "outputs": [
    {
     "data": {
      "text/html": [
       "<div>\n",
       "<style scoped>\n",
       "    .dataframe tbody tr th:only-of-type {\n",
       "        vertical-align: middle;\n",
       "    }\n",
       "\n",
       "    .dataframe tbody tr th {\n",
       "        vertical-align: top;\n",
       "    }\n",
       "\n",
       "    .dataframe thead th {\n",
       "        text-align: right;\n",
       "    }\n",
       "</style>\n",
       "<table border=\"1\" class=\"dataframe\">\n",
       "  <thead>\n",
       "    <tr style=\"text-align: right;\">\n",
       "      <th></th>\n",
       "      <th>Model</th>\n",
       "      <th>MPG</th>\n",
       "      <th>Cylinders</th>\n",
       "      <th>Displacement</th>\n",
       "      <th>Horsepower</th>\n",
       "      <th>Rear_Axle_Ratio</th>\n",
       "      <th>Weight (000)</th>\n",
       "      <th>Qtr_Mile_Time</th>\n",
       "      <th>Engine_Shape</th>\n",
       "      <th>Transmission</th>\n",
       "      <th>Fwd_Gears</th>\n",
       "      <th>Carburators</th>\n",
       "    </tr>\n",
       "  </thead>\n",
       "  <tbody>\n",
       "    <tr>\n",
       "      <th>0</th>\n",
       "      <td>Mazda RX4</td>\n",
       "      <td>21.0</td>\n",
       "      <td>6</td>\n",
       "      <td>160.0</td>\n",
       "      <td>110</td>\n",
       "      <td>3.90</td>\n",
       "      <td>2.620</td>\n",
       "      <td>16.46</td>\n",
       "      <td>0</td>\n",
       "      <td>1</td>\n",
       "      <td>4</td>\n",
       "      <td>4</td>\n",
       "    </tr>\n",
       "    <tr>\n",
       "      <th>1</th>\n",
       "      <td>Mazda RX4 Wag</td>\n",
       "      <td>21.0</td>\n",
       "      <td>6</td>\n",
       "      <td>160.0</td>\n",
       "      <td>110</td>\n",
       "      <td>3.90</td>\n",
       "      <td>2.875</td>\n",
       "      <td>17.02</td>\n",
       "      <td>0</td>\n",
       "      <td>1</td>\n",
       "      <td>4</td>\n",
       "      <td>4</td>\n",
       "    </tr>\n",
       "    <tr>\n",
       "      <th>2</th>\n",
       "      <td>Datsun 710</td>\n",
       "      <td>22.8</td>\n",
       "      <td>4</td>\n",
       "      <td>108.0</td>\n",
       "      <td>93</td>\n",
       "      <td>3.85</td>\n",
       "      <td>2.320</td>\n",
       "      <td>18.61</td>\n",
       "      <td>1</td>\n",
       "      <td>1</td>\n",
       "      <td>4</td>\n",
       "      <td>1</td>\n",
       "    </tr>\n",
       "    <tr>\n",
       "      <th>3</th>\n",
       "      <td>Hornet 4 Drive</td>\n",
       "      <td>21.4</td>\n",
       "      <td>6</td>\n",
       "      <td>258.0</td>\n",
       "      <td>110</td>\n",
       "      <td>3.08</td>\n",
       "      <td>3.215</td>\n",
       "      <td>19.44</td>\n",
       "      <td>1</td>\n",
       "      <td>0</td>\n",
       "      <td>3</td>\n",
       "      <td>1</td>\n",
       "    </tr>\n",
       "    <tr>\n",
       "      <th>4</th>\n",
       "      <td>Hornet Sportabout</td>\n",
       "      <td>18.7</td>\n",
       "      <td>8</td>\n",
       "      <td>360.0</td>\n",
       "      <td>175</td>\n",
       "      <td>3.15</td>\n",
       "      <td>3.440</td>\n",
       "      <td>17.02</td>\n",
       "      <td>0</td>\n",
       "      <td>0</td>\n",
       "      <td>3</td>\n",
       "      <td>2</td>\n",
       "    </tr>\n",
       "  </tbody>\n",
       "</table>\n",
       "</div>"
      ],
      "text/plain": [
       "               Model   MPG  Cylinders  Displacement  Horsepower  \\\n",
       "0          Mazda RX4  21.0          6         160.0         110   \n",
       "1      Mazda RX4 Wag  21.0          6         160.0         110   \n",
       "2         Datsun 710  22.8          4         108.0          93   \n",
       "3     Hornet 4 Drive  21.4          6         258.0         110   \n",
       "4  Hornet Sportabout  18.7          8         360.0         175   \n",
       "\n",
       "   Rear_Axle_Ratio  Weight (000)  Qtr_Mile_Time  Engine_Shape  Transmission  \\\n",
       "0             3.90         2.620          16.46             0             1   \n",
       "1             3.90         2.875          17.02             0             1   \n",
       "2             3.85         2.320          18.61             1             1   \n",
       "3             3.08         3.215          19.44             1             0   \n",
       "4             3.15         3.440          17.02             0             0   \n",
       "\n",
       "   Fwd_Gears  Carburators  \n",
       "0          4            4  \n",
       "1          4            4  \n",
       "2          4            1  \n",
       "3          3            1  \n",
       "4          3            2  "
      ]
     },
     "execution_count": 5,
     "metadata": {},
     "output_type": "execute_result"
    }
   ],
   "source": [
    "df.head()"
   ]
  },
  {
   "cell_type": "code",
   "execution_count": 6,
   "id": "826d6eeb",
   "metadata": {},
   "outputs": [
    {
     "data": {
      "text/plain": [
       "(32, 12)"
      ]
     },
     "execution_count": 6,
     "metadata": {},
     "output_type": "execute_result"
    }
   ],
   "source": [
    "df.shape"
   ]
  },
  {
   "cell_type": "markdown",
   "id": "aa4e4a7c",
   "metadata": {},
   "source": [
    "1. Data Quality Plan"
   ]
  },
  {
   "cell_type": "code",
   "execution_count": null,
   "id": "7e08c4a6",
   "metadata": {},
   "outputs": [],
   "source": [
    "### Get a description of the dataframe and its main content"
   ]
  },
  {
   "cell_type": "code",
   "execution_count": null,
   "id": "5fc3a7d4",
   "metadata": {},
   "outputs": [],
   "source": [
    "### Check the datatypes\n",
    "# df.dtypes"
   ]
  },
  {
   "cell_type": "code",
   "execution_count": null,
   "id": "177bdcf9",
   "metadata": {},
   "outputs": [],
   "source": [
    "### "
   ]
  },
  {
   "cell_type": "code",
   "execution_count": null,
   "id": "8896efa0",
   "metadata": {},
   "outputs": [],
   "source": []
  },
  {
   "cell_type": "markdown",
   "id": "e56b8275",
   "metadata": {},
   "source": [
    "2. Standardize Header and Input"
   ]
  },
  {
   "cell_type": "code",
   "execution_count": null,
   "id": "8303453f",
   "metadata": {},
   "outputs": [],
   "source": [
    "### standardize header to lower or upper cases or use title conventions\n",
    "df.columns = df.columns.str.title()\n",
    "df.columns = df.colums.str.upper()\n",
    "df.colums = df.colums.str.lower()"
   ]
  },
  {
   "cell_type": "code",
   "execution_count": null,
   "id": "19fc1d4a",
   "metadata": {},
   "outputs": [],
   "source": []
  },
  {
   "cell_type": "code",
   "execution_count": null,
   "id": "9448f928",
   "metadata": {},
   "outputs": [],
   "source": []
  },
  {
   "cell_type": "code",
   "execution_count": null,
   "id": "797ee7e3",
   "metadata": {},
   "outputs": [],
   "source": []
  },
  {
   "cell_type": "markdown",
   "id": "8afca80a",
   "metadata": {},
   "source": [
    "3. Validate the Accuracy of the Data"
   ]
  },
  {
   "cell_type": "code",
   "execution_count": null,
   "id": "0a47892f",
   "metadata": {},
   "outputs": [],
   "source": [
    "### Reduce values to specific categories (eliminating typing errors etc.)"
   ]
  },
  {
   "cell_type": "code",
   "execution_count": null,
   "id": "cc8e0caf",
   "metadata": {},
   "outputs": [],
   "source": []
  },
  {
   "cell_type": "code",
   "execution_count": null,
   "id": "03bc1132",
   "metadata": {},
   "outputs": [],
   "source": []
  },
  {
   "cell_type": "code",
   "execution_count": null,
   "id": "851b3350",
   "metadata": {},
   "outputs": [],
   "source": []
  },
  {
   "cell_type": "markdown",
   "id": "a0d11c0f",
   "metadata": {},
   "source": [
    "4. Identify and eliminate Duplicats"
   ]
  },
  {
   "cell_type": "code",
   "execution_count": null,
   "id": "a739e3f3",
   "metadata": {},
   "outputs": [],
   "source": []
  },
  {
   "cell_type": "code",
   "execution_count": null,
   "id": "fa34c91a",
   "metadata": {},
   "outputs": [],
   "source": []
  },
  {
   "cell_type": "code",
   "execution_count": null,
   "id": "41151d7c",
   "metadata": {},
   "outputs": [],
   "source": []
  },
  {
   "cell_type": "code",
   "execution_count": null,
   "id": "c2dbd25f",
   "metadata": {},
   "outputs": [],
   "source": []
  },
  {
   "cell_type": "markdown",
   "id": "b96de02d",
   "metadata": {},
   "source": [
    "5. Append the Data"
   ]
  },
  {
   "cell_type": "code",
   "execution_count": null,
   "id": "7b88ed6b",
   "metadata": {},
   "outputs": [],
   "source": []
  },
  {
   "cell_type": "code",
   "execution_count": null,
   "id": "887e375b",
   "metadata": {},
   "outputs": [],
   "source": []
  },
  {
   "cell_type": "code",
   "execution_count": null,
   "id": "34f9d08b",
   "metadata": {},
   "outputs": [],
   "source": []
  },
  {
   "cell_type": "code",
   "execution_count": null,
   "id": "d56da87b",
   "metadata": {},
   "outputs": [],
   "source": []
  }
 ],
 "metadata": {
  "kernelspec": {
   "display_name": "Python 3",
   "language": "python",
   "name": "python3"
  },
  "language_info": {
   "codemirror_mode": {
    "name": "ipython",
    "version": 3
   },
   "file_extension": ".py",
   "mimetype": "text/x-python",
   "name": "python",
   "nbconvert_exporter": "python",
   "pygments_lexer": "ipython3",
   "version": "3.9.6"
  }
 },
 "nbformat": 4,
 "nbformat_minor": 5
}
