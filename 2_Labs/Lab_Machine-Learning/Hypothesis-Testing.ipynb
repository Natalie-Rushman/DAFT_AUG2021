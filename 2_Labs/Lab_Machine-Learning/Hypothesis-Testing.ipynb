{
 "cells": [
  {
   "cell_type": "markdown",
   "id": "8c2ed226",
   "metadata": {},
   "source": [
    "# Hypothesis Testing\n",
    "testing assumptions about the value of a parameter (mean, variance, median etc.)"
   ]
  },
  {
   "cell_type": "markdown",
   "id": "114b4dc1",
   "metadata": {},
   "source": [
    "### Honolulu Heart Study: \n",
    "- sample of n = 100 people\n",
    "- average systolic blood pressure = 130.1 mm Hg \n",
    "- standard deviation = 21.21 mm Hg\n",
    "\n",
    "Is the group significantly different from the regular population with μ = 120 mm Hg?"
   ]
  },
  {
   "cell_type": "code",
   "execution_count": null,
   "id": "092a0e46",
   "metadata": {},
   "outputs": [],
   "source": [
    "### Set up the hypothesis test feat. all steps"
   ]
  },
  {
   "cell_type": "markdown",
   "id": "fd135188",
   "metadata": {},
   "source": [
    "Null Hypothesis = innocent until proven guilty\n",
    "\n",
    "Two-Tailed-Test (alternate hypothesis gives the alternate in both directions: less than and greater than)\n",
    "Ho = The average blood pressure of the study group is = 130 mm Hg\n",
    "H1 = The average blood pressure of the study group is not 130 mm Hg"
   ]
  },
  {
   "cell_type": "markdown",
   "id": "80f4883a",
   "metadata": {},
   "source": [
    "If H1\n",
    "- we reject the Null Hypothesis\n",
    "- we accept the Alternative Hypothesis"
   ]
  },
  {
   "cell_type": "markdown",
   "id": "66805ae2",
   "metadata": {},
   "source": [
    "The SIGNIFICANCE LEVEL (level of confidence, should be more than 95%) alpha = the uncertainty we accept \n",
    "(percentage probability of accidentally making the wrong conclusion)"
   ]
  },
  {
   "cell_type": "code",
   "execution_count": null,
   "id": "6d5001dc",
   "metadata": {},
   "outputs": [],
   "source": [
    "heart_study = stats.norm.rvs(size=100,loc=130.1, scale = 21.21, random_state = 1)\n",
    "honolulu_people = "
   ]
  },
  {
   "cell_type": "code",
   "execution_count": null,
   "id": "b3ecae78",
   "metadata": {},
   "outputs": [],
   "source": []
  },
  {
   "cell_type": "markdown",
   "id": "3f29db35",
   "metadata": {},
   "source": [
    "### Steps for a Hypothesis Test\n",
    "- Check the conditions\n",
    "- Define the claims\n",
    "- Decide the significance level\n",
    "- Calculate the test statistic\n",
    "- Conclusion"
   ]
  },
  {
   "cell_type": "code",
   "execution_count": null,
   "id": "3a82fde1",
   "metadata": {},
   "outputs": [],
   "source": []
  },
  {
   "cell_type": "code",
   "execution_count": null,
   "id": "8aa01411",
   "metadata": {},
   "outputs": [],
   "source": []
  },
  {
   "cell_type": "code",
   "execution_count": null,
   "id": "ca068b44",
   "metadata": {},
   "outputs": [],
   "source": []
  },
  {
   "cell_type": "code",
   "execution_count": null,
   "id": "b10a67cc",
   "metadata": {},
   "outputs": [],
   "source": [
    "### Calculate the test statistic, code it in Python. \n",
    "### It should be 4.76190. \n",
    "### What decision can you make based on this calculated value?"
   ]
  },
  {
   "cell_type": "code",
   "execution_count": null,
   "id": "cb85b076",
   "metadata": {},
   "outputs": [],
   "source": []
  },
  {
   "cell_type": "code",
   "execution_count": null,
   "id": "df0f59c7",
   "metadata": {},
   "outputs": [],
   "source": []
  },
  {
   "cell_type": "code",
   "execution_count": null,
   "id": "9e2813f3",
   "metadata": {},
   "outputs": [],
   "source": []
  }
 ],
 "metadata": {
  "kernelspec": {
   "display_name": "Python 3",
   "language": "python",
   "name": "python3"
  },
  "language_info": {
   "codemirror_mode": {
    "name": "ipython",
    "version": 3
   },
   "file_extension": ".py",
   "mimetype": "text/x-python",
   "name": "python",
   "nbconvert_exporter": "python",
   "pygments_lexer": "ipython3",
   "version": "3.9.6"
  }
 },
 "nbformat": 4,
 "nbformat_minor": 5
}
