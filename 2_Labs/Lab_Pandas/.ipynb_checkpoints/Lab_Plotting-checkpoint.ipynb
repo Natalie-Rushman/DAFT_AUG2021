{
 "cells": [
  {
   "cell_type": "code",
   "execution_count": 1,
   "id": "5a1e6988",
   "metadata": {},
   "outputs": [],
   "source": [
    "import pandas as pd\n",
    "import numpy as np\n",
    "import seaborn as sns\n",
    "import matplotlib.pyplot as plt"
   ]
  },
  {
   "cell_type": "code",
   "execution_count": 3,
   "id": "58a0b929",
   "metadata": {},
   "outputs": [],
   "source": [
    "path = \"Data_Marketing_Customer_Analysis_Round2.csv\""
   ]
  },
  {
   "cell_type": "code",
   "execution_count": 4,
   "id": "796d441e",
   "metadata": {},
   "outputs": [],
   "source": [
    "def read_data_marketing(path):\n",
    "    return pd.read_csv(path)"
   ]
  },
  {
   "cell_type": "code",
   "execution_count": 5,
   "id": "5bb0a69c",
   "metadata": {},
   "outputs": [],
   "source": [
    "marketing_df = read_data_marketing(path)"
   ]
  },
  {
   "cell_type": "code",
   "execution_count": 6,
   "id": "10c9b69d",
   "metadata": {},
   "outputs": [
    {
     "data": {
      "text/html": [
       "<div>\n",
       "<style scoped>\n",
       "    .dataframe tbody tr th:only-of-type {\n",
       "        vertical-align: middle;\n",
       "    }\n",
       "\n",
       "    .dataframe tbody tr th {\n",
       "        vertical-align: top;\n",
       "    }\n",
       "\n",
       "    .dataframe thead th {\n",
       "        text-align: right;\n",
       "    }\n",
       "</style>\n",
       "<table border=\"1\" class=\"dataframe\">\n",
       "  <thead>\n",
       "    <tr style=\"text-align: right;\">\n",
       "      <th></th>\n",
       "      <th>Unnamed: 0</th>\n",
       "      <th>Customer</th>\n",
       "      <th>State</th>\n",
       "      <th>Customer Lifetime Value</th>\n",
       "      <th>Response</th>\n",
       "      <th>Coverage</th>\n",
       "      <th>Education</th>\n",
       "      <th>Effective To Date</th>\n",
       "      <th>EmploymentStatus</th>\n",
       "      <th>Gender</th>\n",
       "      <th>...</th>\n",
       "      <th>Number of Open Complaints</th>\n",
       "      <th>Number of Policies</th>\n",
       "      <th>Policy Type</th>\n",
       "      <th>Policy</th>\n",
       "      <th>Renew Offer Type</th>\n",
       "      <th>Sales Channel</th>\n",
       "      <th>Total Claim Amount</th>\n",
       "      <th>Vehicle Class</th>\n",
       "      <th>Vehicle Size</th>\n",
       "      <th>Vehicle Type</th>\n",
       "    </tr>\n",
       "  </thead>\n",
       "  <tbody>\n",
       "    <tr>\n",
       "      <th>0</th>\n",
       "      <td>0</td>\n",
       "      <td>DK49336</td>\n",
       "      <td>Arizona</td>\n",
       "      <td>4809.216960</td>\n",
       "      <td>No</td>\n",
       "      <td>Basic</td>\n",
       "      <td>College</td>\n",
       "      <td>2/18/11</td>\n",
       "      <td>Employed</td>\n",
       "      <td>M</td>\n",
       "      <td>...</td>\n",
       "      <td>0.0</td>\n",
       "      <td>9</td>\n",
       "      <td>Corporate Auto</td>\n",
       "      <td>Corporate L3</td>\n",
       "      <td>Offer3</td>\n",
       "      <td>Agent</td>\n",
       "      <td>292.800000</td>\n",
       "      <td>Four-Door Car</td>\n",
       "      <td>Medsize</td>\n",
       "      <td>NaN</td>\n",
       "    </tr>\n",
       "    <tr>\n",
       "      <th>1</th>\n",
       "      <td>1</td>\n",
       "      <td>KX64629</td>\n",
       "      <td>California</td>\n",
       "      <td>2228.525238</td>\n",
       "      <td>No</td>\n",
       "      <td>Basic</td>\n",
       "      <td>College</td>\n",
       "      <td>1/18/11</td>\n",
       "      <td>Unemployed</td>\n",
       "      <td>F</td>\n",
       "      <td>...</td>\n",
       "      <td>0.0</td>\n",
       "      <td>1</td>\n",
       "      <td>Personal Auto</td>\n",
       "      <td>Personal L3</td>\n",
       "      <td>Offer4</td>\n",
       "      <td>Call Center</td>\n",
       "      <td>744.924331</td>\n",
       "      <td>Four-Door Car</td>\n",
       "      <td>Medsize</td>\n",
       "      <td>NaN</td>\n",
       "    </tr>\n",
       "    <tr>\n",
       "      <th>2</th>\n",
       "      <td>2</td>\n",
       "      <td>LZ68649</td>\n",
       "      <td>Washington</td>\n",
       "      <td>14947.917300</td>\n",
       "      <td>No</td>\n",
       "      <td>Basic</td>\n",
       "      <td>Bachelor</td>\n",
       "      <td>2/10/11</td>\n",
       "      <td>Employed</td>\n",
       "      <td>M</td>\n",
       "      <td>...</td>\n",
       "      <td>0.0</td>\n",
       "      <td>2</td>\n",
       "      <td>Personal Auto</td>\n",
       "      <td>Personal L3</td>\n",
       "      <td>Offer3</td>\n",
       "      <td>Call Center</td>\n",
       "      <td>480.000000</td>\n",
       "      <td>SUV</td>\n",
       "      <td>Medsize</td>\n",
       "      <td>A</td>\n",
       "    </tr>\n",
       "    <tr>\n",
       "      <th>3</th>\n",
       "      <td>3</td>\n",
       "      <td>XL78013</td>\n",
       "      <td>Oregon</td>\n",
       "      <td>22332.439460</td>\n",
       "      <td>Yes</td>\n",
       "      <td>Extended</td>\n",
       "      <td>College</td>\n",
       "      <td>1/11/11</td>\n",
       "      <td>Employed</td>\n",
       "      <td>M</td>\n",
       "      <td>...</td>\n",
       "      <td>0.0</td>\n",
       "      <td>2</td>\n",
       "      <td>Corporate Auto</td>\n",
       "      <td>Corporate L3</td>\n",
       "      <td>Offer2</td>\n",
       "      <td>Branch</td>\n",
       "      <td>484.013411</td>\n",
       "      <td>Four-Door Car</td>\n",
       "      <td>Medsize</td>\n",
       "      <td>A</td>\n",
       "    </tr>\n",
       "    <tr>\n",
       "      <th>4</th>\n",
       "      <td>4</td>\n",
       "      <td>QA50777</td>\n",
       "      <td>Oregon</td>\n",
       "      <td>9025.067525</td>\n",
       "      <td>No</td>\n",
       "      <td>Premium</td>\n",
       "      <td>Bachelor</td>\n",
       "      <td>1/17/11</td>\n",
       "      <td>Medical Leave</td>\n",
       "      <td>F</td>\n",
       "      <td>...</td>\n",
       "      <td>NaN</td>\n",
       "      <td>7</td>\n",
       "      <td>Personal Auto</td>\n",
       "      <td>Personal L2</td>\n",
       "      <td>Offer1</td>\n",
       "      <td>Branch</td>\n",
       "      <td>707.925645</td>\n",
       "      <td>Four-Door Car</td>\n",
       "      <td>Medsize</td>\n",
       "      <td>NaN</td>\n",
       "    </tr>\n",
       "  </tbody>\n",
       "</table>\n",
       "<p>5 rows × 26 columns</p>\n",
       "</div>"
      ],
      "text/plain": [
       "   Unnamed: 0 Customer       State  Customer Lifetime Value Response  \\\n",
       "0           0  DK49336     Arizona              4809.216960       No   \n",
       "1           1  KX64629  California              2228.525238       No   \n",
       "2           2  LZ68649  Washington             14947.917300       No   \n",
       "3           3  XL78013      Oregon             22332.439460      Yes   \n",
       "4           4  QA50777      Oregon              9025.067525       No   \n",
       "\n",
       "   Coverage Education Effective To Date EmploymentStatus Gender  ...  \\\n",
       "0     Basic   College           2/18/11         Employed      M  ...   \n",
       "1     Basic   College           1/18/11       Unemployed      F  ...   \n",
       "2     Basic  Bachelor           2/10/11         Employed      M  ...   \n",
       "3  Extended   College           1/11/11         Employed      M  ...   \n",
       "4   Premium  Bachelor           1/17/11    Medical Leave      F  ...   \n",
       "\n",
       "   Number of Open Complaints Number of Policies     Policy Type        Policy  \\\n",
       "0                        0.0                  9  Corporate Auto  Corporate L3   \n",
       "1                        0.0                  1   Personal Auto   Personal L3   \n",
       "2                        0.0                  2   Personal Auto   Personal L3   \n",
       "3                        0.0                  2  Corporate Auto  Corporate L3   \n",
       "4                        NaN                  7   Personal Auto   Personal L2   \n",
       "\n",
       "   Renew Offer Type  Sales Channel  Total Claim Amount  Vehicle Class  \\\n",
       "0            Offer3          Agent          292.800000  Four-Door Car   \n",
       "1            Offer4    Call Center          744.924331  Four-Door Car   \n",
       "2            Offer3    Call Center          480.000000            SUV   \n",
       "3            Offer2         Branch          484.013411  Four-Door Car   \n",
       "4            Offer1         Branch          707.925645  Four-Door Car   \n",
       "\n",
       "  Vehicle Size Vehicle Type  \n",
       "0      Medsize          NaN  \n",
       "1      Medsize          NaN  \n",
       "2      Medsize            A  \n",
       "3      Medsize            A  \n",
       "4      Medsize          NaN  \n",
       "\n",
       "[5 rows x 26 columns]"
      ]
     },
     "execution_count": 6,
     "metadata": {},
     "output_type": "execute_result"
    }
   ],
   "source": [
    "marketing_df.head()"
   ]
  },
  {
   "cell_type": "code",
   "execution_count": 23,
   "id": "9081da1f",
   "metadata": {},
   "outputs": [
    {
     "data": {
      "text/plain": [
       "(10910, 26)"
      ]
     },
     "execution_count": 23,
     "metadata": {},
     "output_type": "execute_result"
    }
   ],
   "source": [
    "marketing_df.shape"
   ]
  },
  {
   "cell_type": "markdown",
   "id": "041a8edc",
   "metadata": {},
   "source": [
    "# Data Cleaning\n",
    "\n",
    "- Standardize Header \n",
    "- Rename Columns"
   ]
  },
  {
   "cell_type": "code",
   "execution_count": 24,
   "id": "49fb6f7b",
   "metadata": {},
   "outputs": [],
   "source": [
    "def columns_standard_lower_cases(marketing_df):\n",
    "    marketing_df.columns = [i.lower() for i in marketing_df.columns]\n",
    "    return marketing_df"
   ]
  },
  {
   "cell_type": "code",
   "execution_count": 25,
   "id": "b10ed1ba",
   "metadata": {},
   "outputs": [],
   "source": [
    "def columns_rename(marketing_df):\n",
    "    marketing_df.rename(columns = {\"employmentstatus\" : \"employment status\"}, inplace=True)\n",
    "    return marketing_df"
   ]
  },
  {
   "cell_type": "code",
   "execution_count": 26,
   "id": "4c008443",
   "metadata": {},
   "outputs": [],
   "source": [
    "### review this one, takes too much time to operate\n",
    "\n",
    "def replace_null_values(marketing_df):\n",
    "    marketing_df.fillna(value=\"No\", inplace=True)\n",
    "    return replace_null_values(marketing_df)"
   ]
  },
  {
   "cell_type": "markdown",
   "id": "6fdf7d48",
   "metadata": {},
   "source": [
    "# Plotting"
   ]
  },
  {
   "cell_type": "markdown",
   "id": "fe79de53",
   "metadata": {},
   "source": [
    "### Total Number of Responses"
   ]
  },
  {
   "cell_type": "code",
   "execution_count": 28,
   "id": "8c47382b",
   "metadata": {},
   "outputs": [
    {
     "data": {
      "text/plain": [
       "10279"
      ]
     },
     "execution_count": 28,
     "metadata": {},
     "output_type": "execute_result"
    }
   ],
   "source": [
    "marketing_df.Response.count()"
   ]
  },
  {
   "cell_type": "code",
   "execution_count": 38,
   "id": "92689d9c",
   "metadata": {},
   "outputs": [],
   "source": [
    "response = marketing_df['Response'].value_counts()"
   ]
  },
  {
   "cell_type": "code",
   "execution_count": 39,
   "id": "1f91cba8",
   "metadata": {},
   "outputs": [
    {
     "data": {
      "text/plain": [
       "No     8813\n",
       "Yes    1466\n",
       "Name: Response, dtype: int64"
      ]
     },
     "execution_count": 39,
     "metadata": {},
     "output_type": "execute_result"
    }
   ],
   "source": [
    "response"
   ]
  },
  {
   "cell_type": "code",
   "execution_count": 30,
   "id": "a27efe7d",
   "metadata": {},
   "outputs": [
    {
     "data": {
      "text/plain": [
       "<AxesSubplot:title={'center':'Total number of Responses'}, ylabel='Response'>"
      ]
     },
     "execution_count": 30,
     "metadata": {},
     "output_type": "execute_result"
    },
    {
     "data": {
      "image/png": "[encoded data removed]",
      "text/plain": [
       "<Figure size 432x288 with 1 Axes>"
      ]
     },
     "metadata": {
      "needs_background": "light"
     },
     "output_type": "display_data"
    }
   ],
   "source": [
    "fig1, ax1 = plt.subplots()\n",
    "\n",
    "ax1.set_title(\"Total number of Responses\")\n",
    "\n",
    "sns.barplot(x = response.index, y = response)"
   ]
  },
  {
   "cell_type": "code",
   "execution_count": 31,
   "id": "70047aac",
   "metadata": {},
   "outputs": [
    {
     "data": {
      "text/plain": [
       "<AxesSubplot:ylabel='Response'>"
      ]
     },
     "execution_count": 31,
     "metadata": {},
     "output_type": "execute_result"
    },
    {
     "data": {
      "image/png": "[encoded data removed]",
      "text/plain": [
       "<Figure size 432x288 with 2 Axes>"
      ]
     },
     "metadata": {
      "needs_background": "light"
     },
     "output_type": "display_data"
    }
   ],
   "source": [
    "fig1, ax1 = plt.subplots(2,1)\n",
    "ax1[0].bar(x=response.index, height = response, color = ['#2dc5fa','#a6a7ba','#ffd26f'])\n",
    "sns.barplot(x = response.index, y = response)"
   ]
  },
  {
   "cell_type": "code",
   "execution_count": 37,
   "id": "46cb9e4d",
   "metadata": {},
   "outputs": [
    {
     "ename": "SyntaxError",
     "evalue": "unexpected EOF while parsing (<ipython-input-37-770f6e55de52>, line 1)",
     "output_type": "error",
     "traceback": [
      "\u001b[0;36m  File \u001b[0;32m\"<ipython-input-37-770f6e55de52>\"\u001b[0;36m, line \u001b[0;32m1\u001b[0m\n\u001b[0;31m    df_response = marketing_df[(marketing_df[\"Response\"]==\"Yes\")\u001b[0m\n\u001b[0m                                                                ^\u001b[0m\n\u001b[0;31mSyntaxError\u001b[0m\u001b[0;31m:\u001b[0m unexpected EOF while parsing\n"
     ]
    }
   ],
   "source": [
    "df_response = marketing_df[(marketing_df[\"Response\"]==\"Yes\")"
   ]
  },
  {
   "cell_type": "code",
   "execution_count": null,
   "id": "315f5dc3",
   "metadata": {},
   "outputs": [],
   "source": [
    "plt.figure(figsize=(8,4))\n",
    "sns.countplot('response', hue='sales_channel', data=customers_df)\n",
    "plt.ylabel('Response by Sales Channel')\n",
    "plt.show()"
   ]
  },
  {
   "cell_type": "markdown",
   "id": "897464e0",
   "metadata": {},
   "source": [
    "### Response Rate according to Sales Channel"
   ]
  },
  {
   "cell_type": "code",
   "execution_count": 23,
   "id": "5ace4458",
   "metadata": {},
   "outputs": [
    {
     "data": {
      "text/plain": [
       "Agent          4121\n",
       "Branch         3022\n",
       "Call Center    2141\n",
       "Web            1626\n",
       "Name: Sales Channel, dtype: int64"
      ]
     },
     "execution_count": 23,
     "metadata": {},
     "output_type": "execute_result"
    }
   ],
   "source": [
    "marketing_df['Sales Channel'].value_counts()"
   ]
  },
  {
   "cell_type": "code",
   "execution_count": 24,
   "id": "1914047b",
   "metadata": {},
   "outputs": [
    {
     "ename": "SyntaxError",
     "evalue": "unexpected EOF while parsing (<ipython-input-24-2a8df43e8fdd>, line 1)",
     "output_type": "error",
     "traceback": [
      "\u001b[0;36m  File \u001b[0;32m\"<ipython-input-24-2a8df43e8fdd>\"\u001b[0;36m, line \u001b[0;32m1\u001b[0m\n\u001b[0;31m    by_channel = marketing_df.groupby(['Sales Channel', 'Response'].count.reset_index()\u001b[0m\n\u001b[0m                                                                                       ^\u001b[0m\n\u001b[0;31mSyntaxError\u001b[0m\u001b[0;31m:\u001b[0m unexpected EOF while parsing\n"
     ]
    }
   ],
   "source": [
    "by_channel = marketing_df.groupby(['Sales Channel', 'Response'].count.reset_index()"
   ]
  },
  {
   "cell_type": "code",
   "execution_count": 48,
   "id": "f83a7823",
   "metadata": {},
   "outputs": [
    {
     "data": {
      "text/plain": [
       "<AxesSubplot:title={'center':'Responses according to Sales Channels'}, ylabel='sales channel'>"
      ]
     },
     "execution_count": 48,
     "metadata": {},
     "output_type": "execute_result"
    },
    {
     "data": {
      "image/png": "[encoded data removed]",
      "text/plain": [
       "<Figure size 432x288 with 1 Axes>"
      ]
     },
     "metadata": {
      "needs_background": "light"
     },
     "output_type": "display_data"
    }
   ],
   "source": [
    "fig2, ax2 = plt.subplots()\n",
    "\n",
    "ax2.set_title(\"Responses according to Sales Channels\")\n",
    "\n",
    "sns.barplot(x = by_channel.index, y = by_channel)"
   ]
  },
  {
   "cell_type": "code",
   "execution_count": null,
   "id": "5e8b1ac9",
   "metadata": {},
   "outputs": [],
   "source": []
  },
  {
   "cell_type": "markdown",
   "id": "3712d22d",
   "metadata": {},
   "source": [
    "### Response Rate according to Total Claim Amount"
   ]
  },
  {
   "cell_type": "code",
   "execution_count": 49,
   "id": "4b7abfac",
   "metadata": {},
   "outputs": [
    {
     "data": {
      "text/plain": [
       "316.800000    139\n",
       "292.800000    136\n",
       "312.000000    132\n",
       "350.400000    129\n",
       "331.200000    119\n",
       "             ... \n",
       "1.208908        1\n",
       "334.133510      1\n",
       "238.088581      1\n",
       "308.981664      1\n",
       "541.755353      1\n",
       "Name: total claim amount, Length: 5106, dtype: int64"
      ]
     },
     "execution_count": 49,
     "metadata": {},
     "output_type": "execute_result"
    }
   ],
   "source": [
    "marketing_df['total claim amount'].value_counts()"
   ]
  },
  {
   "cell_type": "code",
   "execution_count": 50,
   "id": "7b1d228a",
   "metadata": {},
   "outputs": [],
   "source": [
    "by_claims = marketing_df['total claim amount'].value_counts()"
   ]
  },
  {
   "cell_type": "code",
   "execution_count": 51,
   "id": "25380562",
   "metadata": {},
   "outputs": [
    {
     "data": {
      "text/plain": [
       "<AxesSubplot:>"
      ]
     },
     "execution_count": 51,
     "metadata": {},
     "output_type": "execute_result"
    },
    {
     "data": {
      "image/png": "[encoded data removed]",
      "text/plain": [
       "<Figure size 432x288 with 1 Axes>"
      ]
     },
     "metadata": {
      "needs_background": "light"
     },
     "output_type": "display_data"
    }
   ],
   "source": [
    "by_claims.hist()"
   ]
  },
  {
   "cell_type": "code",
   "execution_count": null,
   "id": "b53d11ba",
   "metadata": {},
   "outputs": [],
   "source": []
  },
  {
   "cell_type": "code",
   "execution_count": null,
   "id": "06d31526",
   "metadata": {},
   "outputs": [],
   "source": []
  },
  {
   "cell_type": "markdown",
   "id": "8ecd5c77",
   "metadata": {},
   "source": [
    "### Response Rate by Income"
   ]
  },
  {
   "cell_type": "code",
   "execution_count": 21,
   "id": "d6c5d7a5",
   "metadata": {},
   "outputs": [
    {
     "ename": "KeyError",
     "evalue": "'income'",
     "output_type": "error",
     "traceback": [
      "\u001b[0;31m---------------------------------------------------------------------------\u001b[0m",
      "\u001b[0;31mKeyError\u001b[0m                                  Traceback (most recent call last)",
      "\u001b[0;32m/opt/anaconda3/envs/DA_new/lib/python3.9/site-packages/pandas/core/indexes/base.py\u001b[0m in \u001b[0;36mget_loc\u001b[0;34m(self, key, method, tolerance)\u001b[0m\n\u001b[1;32m   3360\u001b[0m             \u001b[0;32mtry\u001b[0m\u001b[0;34m:\u001b[0m\u001b[0;34m\u001b[0m\u001b[0;34m\u001b[0m\u001b[0m\n\u001b[0;32m-> 3361\u001b[0;31m                 \u001b[0;32mreturn\u001b[0m \u001b[0mself\u001b[0m\u001b[0;34m.\u001b[0m\u001b[0m_engine\u001b[0m\u001b[0;34m.\u001b[0m\u001b[0mget_loc\u001b[0m\u001b[0;34m(\u001b[0m\u001b[0mcasted_key\u001b[0m\u001b[0;34m)\u001b[0m\u001b[0;34m\u001b[0m\u001b[0;34m\u001b[0m\u001b[0m\n\u001b[0m\u001b[1;32m   3362\u001b[0m             \u001b[0;32mexcept\u001b[0m \u001b[0mKeyError\u001b[0m \u001b[0;32mas\u001b[0m \u001b[0merr\u001b[0m\u001b[0;34m:\u001b[0m\u001b[0;34m\u001b[0m\u001b[0;34m\u001b[0m\u001b[0m\n",
      "\u001b[0;32m/opt/anaconda3/envs/DA_new/lib/python3.9/site-packages/pandas/_libs/index.pyx\u001b[0m in \u001b[0;36mpandas._libs.index.IndexEngine.get_loc\u001b[0;34m()\u001b[0m\n",
      "\u001b[0;32m/opt/anaconda3/envs/DA_new/lib/python3.9/site-packages/pandas/_libs/index.pyx\u001b[0m in \u001b[0;36mpandas._libs.index.IndexEngine.get_loc\u001b[0;34m()\u001b[0m\n",
      "\u001b[0;32mpandas/_libs/hashtable_class_helper.pxi\u001b[0m in \u001b[0;36mpandas._libs.hashtable.PyObjectHashTable.get_item\u001b[0;34m()\u001b[0m\n",
      "\u001b[0;32mpandas/_libs/hashtable_class_helper.pxi\u001b[0m in \u001b[0;36mpandas._libs.hashtable.PyObjectHashTable.get_item\u001b[0;34m()\u001b[0m\n",
      "\u001b[0;31mKeyError\u001b[0m: 'income'",
      "\nThe above exception was the direct cause of the following exception:\n",
      "\u001b[0;31mKeyError\u001b[0m                                  Traceback (most recent call last)",
      "\u001b[0;32m<ipython-input-21-7ef961910adb>\u001b[0m in \u001b[0;36m<module>\u001b[0;34m\u001b[0m\n\u001b[0;32m----> 1\u001b[0;31m \u001b[0mmarketing_df\u001b[0m\u001b[0;34m[\u001b[0m\u001b[0;34m'income'\u001b[0m\u001b[0;34m]\u001b[0m\u001b[0;34m.\u001b[0m\u001b[0mvalue_counts\u001b[0m\u001b[0;34m(\u001b[0m\u001b[0;34m)\u001b[0m\u001b[0;34m\u001b[0m\u001b[0;34m\u001b[0m\u001b[0m\n\u001b[0m",
      "\u001b[0;32m/opt/anaconda3/envs/DA_new/lib/python3.9/site-packages/pandas/core/frame.py\u001b[0m in \u001b[0;36m__getitem__\u001b[0;34m(self, key)\u001b[0m\n\u001b[1;32m   3453\u001b[0m             \u001b[0;32mif\u001b[0m \u001b[0mself\u001b[0m\u001b[0;34m.\u001b[0m\u001b[0mcolumns\u001b[0m\u001b[0;34m.\u001b[0m\u001b[0mnlevels\u001b[0m \u001b[0;34m>\u001b[0m \u001b[0;36m1\u001b[0m\u001b[0;34m:\u001b[0m\u001b[0;34m\u001b[0m\u001b[0;34m\u001b[0m\u001b[0m\n\u001b[1;32m   3454\u001b[0m                 \u001b[0;32mreturn\u001b[0m \u001b[0mself\u001b[0m\u001b[0;34m.\u001b[0m\u001b[0m_getitem_multilevel\u001b[0m\u001b[0;34m(\u001b[0m\u001b[0mkey\u001b[0m\u001b[0;34m)\u001b[0m\u001b[0;34m\u001b[0m\u001b[0;34m\u001b[0m\u001b[0m\n\u001b[0;32m-> 3455\u001b[0;31m             \u001b[0mindexer\u001b[0m \u001b[0;34m=\u001b[0m \u001b[0mself\u001b[0m\u001b[0;34m.\u001b[0m\u001b[0mcolumns\u001b[0m\u001b[0;34m.\u001b[0m\u001b[0mget_loc\u001b[0m\u001b[0;34m(\u001b[0m\u001b[0mkey\u001b[0m\u001b[0;34m)\u001b[0m\u001b[0;34m\u001b[0m\u001b[0;34m\u001b[0m\u001b[0m\n\u001b[0m\u001b[1;32m   3456\u001b[0m             \u001b[0;32mif\u001b[0m \u001b[0mis_integer\u001b[0m\u001b[0;34m(\u001b[0m\u001b[0mindexer\u001b[0m\u001b[0;34m)\u001b[0m\u001b[0;34m:\u001b[0m\u001b[0;34m\u001b[0m\u001b[0;34m\u001b[0m\u001b[0m\n\u001b[1;32m   3457\u001b[0m                 \u001b[0mindexer\u001b[0m \u001b[0;34m=\u001b[0m \u001b[0;34m[\u001b[0m\u001b[0mindexer\u001b[0m\u001b[0;34m]\u001b[0m\u001b[0;34m\u001b[0m\u001b[0;34m\u001b[0m\u001b[0m\n",
      "\u001b[0;32m/opt/anaconda3/envs/DA_new/lib/python3.9/site-packages/pandas/core/indexes/base.py\u001b[0m in \u001b[0;36mget_loc\u001b[0;34m(self, key, method, tolerance)\u001b[0m\n\u001b[1;32m   3361\u001b[0m                 \u001b[0;32mreturn\u001b[0m \u001b[0mself\u001b[0m\u001b[0;34m.\u001b[0m\u001b[0m_engine\u001b[0m\u001b[0;34m.\u001b[0m\u001b[0mget_loc\u001b[0m\u001b[0;34m(\u001b[0m\u001b[0mcasted_key\u001b[0m\u001b[0;34m)\u001b[0m\u001b[0;34m\u001b[0m\u001b[0;34m\u001b[0m\u001b[0m\n\u001b[1;32m   3362\u001b[0m             \u001b[0;32mexcept\u001b[0m \u001b[0mKeyError\u001b[0m \u001b[0;32mas\u001b[0m \u001b[0merr\u001b[0m\u001b[0;34m:\u001b[0m\u001b[0;34m\u001b[0m\u001b[0;34m\u001b[0m\u001b[0m\n\u001b[0;32m-> 3363\u001b[0;31m                 \u001b[0;32mraise\u001b[0m \u001b[0mKeyError\u001b[0m\u001b[0;34m(\u001b[0m\u001b[0mkey\u001b[0m\u001b[0;34m)\u001b[0m \u001b[0;32mfrom\u001b[0m \u001b[0merr\u001b[0m\u001b[0;34m\u001b[0m\u001b[0;34m\u001b[0m\u001b[0m\n\u001b[0m\u001b[1;32m   3364\u001b[0m \u001b[0;34m\u001b[0m\u001b[0m\n\u001b[1;32m   3365\u001b[0m         \u001b[0;32mif\u001b[0m \u001b[0mis_scalar\u001b[0m\u001b[0;34m(\u001b[0m\u001b[0mkey\u001b[0m\u001b[0;34m)\u001b[0m \u001b[0;32mand\u001b[0m \u001b[0misna\u001b[0m\u001b[0;34m(\u001b[0m\u001b[0mkey\u001b[0m\u001b[0;34m)\u001b[0m \u001b[0;32mand\u001b[0m \u001b[0;32mnot\u001b[0m \u001b[0mself\u001b[0m\u001b[0;34m.\u001b[0m\u001b[0mhasnans\u001b[0m\u001b[0;34m:\u001b[0m\u001b[0;34m\u001b[0m\u001b[0;34m\u001b[0m\u001b[0m\n",
      "\u001b[0;31mKeyError\u001b[0m: 'income'"
     ]
    }
   ],
   "source": [
    "marketing_df['income'].value_counts()"
   ]
  },
  {
   "cell_type": "code",
   "execution_count": 20,
   "id": "06ffd2e8",
   "metadata": {},
   "outputs": [
    {
     "ename": "KeyError",
     "evalue": "'income'",
     "output_type": "error",
     "traceback": [
      "\u001b[0;31m---------------------------------------------------------------------------\u001b[0m",
      "\u001b[0;31mKeyError\u001b[0m                                  Traceback (most recent call last)",
      "\u001b[0;32m/opt/anaconda3/envs/DA_new/lib/python3.9/site-packages/pandas/core/indexes/base.py\u001b[0m in \u001b[0;36mget_loc\u001b[0;34m(self, key, method, tolerance)\u001b[0m\n\u001b[1;32m   3360\u001b[0m             \u001b[0;32mtry\u001b[0m\u001b[0;34m:\u001b[0m\u001b[0;34m\u001b[0m\u001b[0;34m\u001b[0m\u001b[0m\n\u001b[0;32m-> 3361\u001b[0;31m                 \u001b[0;32mreturn\u001b[0m \u001b[0mself\u001b[0m\u001b[0;34m.\u001b[0m\u001b[0m_engine\u001b[0m\u001b[0;34m.\u001b[0m\u001b[0mget_loc\u001b[0m\u001b[0;34m(\u001b[0m\u001b[0mcasted_key\u001b[0m\u001b[0;34m)\u001b[0m\u001b[0;34m\u001b[0m\u001b[0;34m\u001b[0m\u001b[0m\n\u001b[0m\u001b[1;32m   3362\u001b[0m             \u001b[0;32mexcept\u001b[0m \u001b[0mKeyError\u001b[0m \u001b[0;32mas\u001b[0m \u001b[0merr\u001b[0m\u001b[0;34m:\u001b[0m\u001b[0;34m\u001b[0m\u001b[0;34m\u001b[0m\u001b[0m\n",
      "\u001b[0;32m/opt/anaconda3/envs/DA_new/lib/python3.9/site-packages/pandas/_libs/index.pyx\u001b[0m in \u001b[0;36mpandas._libs.index.IndexEngine.get_loc\u001b[0;34m()\u001b[0m\n",
      "\u001b[0;32m/opt/anaconda3/envs/DA_new/lib/python3.9/site-packages/pandas/_libs/index.pyx\u001b[0m in \u001b[0;36mpandas._libs.index.IndexEngine.get_loc\u001b[0;34m()\u001b[0m\n",
      "\u001b[0;32mpandas/_libs/hashtable_class_helper.pxi\u001b[0m in \u001b[0;36mpandas._libs.hashtable.PyObjectHashTable.get_item\u001b[0;34m()\u001b[0m\n",
      "\u001b[0;32mpandas/_libs/hashtable_class_helper.pxi\u001b[0m in \u001b[0;36mpandas._libs.hashtable.PyObjectHashTable.get_item\u001b[0;34m()\u001b[0m\n",
      "\u001b[0;31mKeyError\u001b[0m: 'income'",
      "\nThe above exception was the direct cause of the following exception:\n",
      "\u001b[0;31mKeyError\u001b[0m                                  Traceback (most recent call last)",
      "\u001b[0;32m<ipython-input-20-561d24bf713c>\u001b[0m in \u001b[0;36m<module>\u001b[0;34m\u001b[0m\n\u001b[0;32m----> 1\u001b[0;31m \u001b[0mby_income\u001b[0m \u001b[0;34m=\u001b[0m \u001b[0mmarketing_df\u001b[0m\u001b[0;34m[\u001b[0m\u001b[0;34m'income'\u001b[0m\u001b[0;34m]\u001b[0m\u001b[0;34m.\u001b[0m\u001b[0msum\u001b[0m\u001b[0;34m(\u001b[0m\u001b[0;34m)\u001b[0m\u001b[0;34m\u001b[0m\u001b[0;34m\u001b[0m\u001b[0m\n\u001b[0m",
      "\u001b[0;32m/opt/anaconda3/envs/DA_new/lib/python3.9/site-packages/pandas/core/frame.py\u001b[0m in \u001b[0;36m__getitem__\u001b[0;34m(self, key)\u001b[0m\n\u001b[1;32m   3453\u001b[0m             \u001b[0;32mif\u001b[0m \u001b[0mself\u001b[0m\u001b[0;34m.\u001b[0m\u001b[0mcolumns\u001b[0m\u001b[0;34m.\u001b[0m\u001b[0mnlevels\u001b[0m \u001b[0;34m>\u001b[0m \u001b[0;36m1\u001b[0m\u001b[0;34m:\u001b[0m\u001b[0;34m\u001b[0m\u001b[0;34m\u001b[0m\u001b[0m\n\u001b[1;32m   3454\u001b[0m                 \u001b[0;32mreturn\u001b[0m \u001b[0mself\u001b[0m\u001b[0;34m.\u001b[0m\u001b[0m_getitem_multilevel\u001b[0m\u001b[0;34m(\u001b[0m\u001b[0mkey\u001b[0m\u001b[0;34m)\u001b[0m\u001b[0;34m\u001b[0m\u001b[0;34m\u001b[0m\u001b[0m\n\u001b[0;32m-> 3455\u001b[0;31m             \u001b[0mindexer\u001b[0m \u001b[0;34m=\u001b[0m \u001b[0mself\u001b[0m\u001b[0;34m.\u001b[0m\u001b[0mcolumns\u001b[0m\u001b[0;34m.\u001b[0m\u001b[0mget_loc\u001b[0m\u001b[0;34m(\u001b[0m\u001b[0mkey\u001b[0m\u001b[0;34m)\u001b[0m\u001b[0;34m\u001b[0m\u001b[0;34m\u001b[0m\u001b[0m\n\u001b[0m\u001b[1;32m   3456\u001b[0m             \u001b[0;32mif\u001b[0m \u001b[0mis_integer\u001b[0m\u001b[0;34m(\u001b[0m\u001b[0mindexer\u001b[0m\u001b[0;34m)\u001b[0m\u001b[0;34m:\u001b[0m\u001b[0;34m\u001b[0m\u001b[0;34m\u001b[0m\u001b[0m\n\u001b[1;32m   3457\u001b[0m                 \u001b[0mindexer\u001b[0m \u001b[0;34m=\u001b[0m \u001b[0;34m[\u001b[0m\u001b[0mindexer\u001b[0m\u001b[0;34m]\u001b[0m\u001b[0;34m\u001b[0m\u001b[0;34m\u001b[0m\u001b[0m\n",
      "\u001b[0;32m/opt/anaconda3/envs/DA_new/lib/python3.9/site-packages/pandas/core/indexes/base.py\u001b[0m in \u001b[0;36mget_loc\u001b[0;34m(self, key, method, tolerance)\u001b[0m\n\u001b[1;32m   3361\u001b[0m                 \u001b[0;32mreturn\u001b[0m \u001b[0mself\u001b[0m\u001b[0;34m.\u001b[0m\u001b[0m_engine\u001b[0m\u001b[0;34m.\u001b[0m\u001b[0mget_loc\u001b[0m\u001b[0;34m(\u001b[0m\u001b[0mcasted_key\u001b[0m\u001b[0;34m)\u001b[0m\u001b[0;34m\u001b[0m\u001b[0;34m\u001b[0m\u001b[0m\n\u001b[1;32m   3362\u001b[0m             \u001b[0;32mexcept\u001b[0m \u001b[0mKeyError\u001b[0m \u001b[0;32mas\u001b[0m \u001b[0merr\u001b[0m\u001b[0;34m:\u001b[0m\u001b[0;34m\u001b[0m\u001b[0;34m\u001b[0m\u001b[0m\n\u001b[0;32m-> 3363\u001b[0;31m                 \u001b[0;32mraise\u001b[0m \u001b[0mKeyError\u001b[0m\u001b[0;34m(\u001b[0m\u001b[0mkey\u001b[0m\u001b[0;34m)\u001b[0m \u001b[0;32mfrom\u001b[0m \u001b[0merr\u001b[0m\u001b[0;34m\u001b[0m\u001b[0;34m\u001b[0m\u001b[0m\n\u001b[0m\u001b[1;32m   3364\u001b[0m \u001b[0;34m\u001b[0m\u001b[0m\n\u001b[1;32m   3365\u001b[0m         \u001b[0;32mif\u001b[0m \u001b[0mis_scalar\u001b[0m\u001b[0;34m(\u001b[0m\u001b[0mkey\u001b[0m\u001b[0;34m)\u001b[0m \u001b[0;32mand\u001b[0m \u001b[0misna\u001b[0m\u001b[0;34m(\u001b[0m\u001b[0mkey\u001b[0m\u001b[0;34m)\u001b[0m \u001b[0;32mand\u001b[0m \u001b[0;32mnot\u001b[0m \u001b[0mself\u001b[0m\u001b[0;34m.\u001b[0m\u001b[0mhasnans\u001b[0m\u001b[0;34m:\u001b[0m\u001b[0;34m\u001b[0m\u001b[0;34m\u001b[0m\u001b[0m\n",
      "\u001b[0;31mKeyError\u001b[0m: 'income'"
     ]
    }
   ],
   "source": [
    "by_income = marketing_df['income'].sum()"
   ]
  },
  {
   "cell_type": "code",
   "execution_count": 54,
   "id": "bdfd40db",
   "metadata": {},
   "outputs": [],
   "source": [
    "responses_by_income = marketing_df.groupby(['response']['income'].count().reset_index()"
   ]
  },
  {
   "cell_type": "raw",
   "id": "2be7ca14",
   "metadata": {},
   "source": [
    "fig4, ax4 = plt.subplots()\n",
    "\n",
    "ax4.set_title(\"Responses according to Income\")\n",
    "\n",
    "sns.barplot(x = responses_by_income.index, y = responses_by_income)"
   ]
  },
  {
   "cell_type": "code",
   "execution_count": 18,
   "id": "d51952ec",
   "metadata": {},
   "outputs": [],
   "source": []
  },
  {
   "cell_type": "code",
   "execution_count": null,
   "id": "88dd6867",
   "metadata": {},
   "outputs": [],
   "source": []
  },
  {
   "cell_type": "markdown",
   "id": "537334ee",
   "metadata": {},
   "source": [
    "### Correlation Heatmap"
   ]
  },
  {
   "cell_type": "code",
   "execution_count": 7,
   "id": "7771fcd2",
   "metadata": {},
   "outputs": [
    {
     "data": {
      "text/html": [
       "<div>\n",
       "<style scoped>\n",
       "    .dataframe tbody tr th:only-of-type {\n",
       "        vertical-align: middle;\n",
       "    }\n",
       "\n",
       "    .dataframe tbody tr th {\n",
       "        vertical-align: top;\n",
       "    }\n",
       "\n",
       "    .dataframe thead th {\n",
       "        text-align: right;\n",
       "    }\n",
       "</style>\n",
       "<table border=\"1\" class=\"dataframe\">\n",
       "  <thead>\n",
       "    <tr style=\"text-align: right;\">\n",
       "      <th></th>\n",
       "      <th>Unnamed: 0</th>\n",
       "      <th>Customer Lifetime Value</th>\n",
       "      <th>Income</th>\n",
       "      <th>Monthly Premium Auto</th>\n",
       "      <th>Months Since Last Claim</th>\n",
       "      <th>Months Since Policy Inception</th>\n",
       "      <th>Number of Open Complaints</th>\n",
       "      <th>Number of Policies</th>\n",
       "      <th>Total Claim Amount</th>\n",
       "    </tr>\n",
       "  </thead>\n",
       "  <tbody>\n",
       "    <tr>\n",
       "      <th>Unnamed: 0</th>\n",
       "      <td>1.000000</td>\n",
       "      <td>0.001355</td>\n",
       "      <td>0.008910</td>\n",
       "      <td>0.000863</td>\n",
       "      <td>0.007958</td>\n",
       "      <td>0.012795</td>\n",
       "      <td>0.007325</td>\n",
       "      <td>0.002319</td>\n",
       "      <td>-0.000593</td>\n",
       "    </tr>\n",
       "    <tr>\n",
       "      <th>Customer Lifetime Value</th>\n",
       "      <td>0.001355</td>\n",
       "      <td>1.000000</td>\n",
       "      <td>0.028306</td>\n",
       "      <td>0.403069</td>\n",
       "      <td>0.016052</td>\n",
       "      <td>0.016960</td>\n",
       "      <td>-0.032243</td>\n",
       "      <td>0.016024</td>\n",
       "      <td>0.232626</td>\n",
       "    </tr>\n",
       "    <tr>\n",
       "      <th>Income</th>\n",
       "      <td>0.008910</td>\n",
       "      <td>0.028306</td>\n",
       "      <td>1.000000</td>\n",
       "      <td>-0.009788</td>\n",
       "      <td>-0.023814</td>\n",
       "      <td>-0.005903</td>\n",
       "      <td>0.007163</td>\n",
       "      <td>-0.009960</td>\n",
       "      <td>-0.354141</td>\n",
       "    </tr>\n",
       "    <tr>\n",
       "      <th>Monthly Premium Auto</th>\n",
       "      <td>0.000863</td>\n",
       "      <td>0.403069</td>\n",
       "      <td>-0.009788</td>\n",
       "      <td>1.000000</td>\n",
       "      <td>0.008744</td>\n",
       "      <td>0.018953</td>\n",
       "      <td>-0.010350</td>\n",
       "      <td>-0.020505</td>\n",
       "      <td>0.631799</td>\n",
       "    </tr>\n",
       "    <tr>\n",
       "      <th>Months Since Last Claim</th>\n",
       "      <td>0.007958</td>\n",
       "      <td>0.016052</td>\n",
       "      <td>-0.023814</td>\n",
       "      <td>0.008744</td>\n",
       "      <td>1.000000</td>\n",
       "      <td>-0.039318</td>\n",
       "      <td>0.002246</td>\n",
       "      <td>0.007678</td>\n",
       "      <td>0.013137</td>\n",
       "    </tr>\n",
       "    <tr>\n",
       "      <th>Months Since Policy Inception</th>\n",
       "      <td>0.012795</td>\n",
       "      <td>0.016960</td>\n",
       "      <td>-0.005903</td>\n",
       "      <td>0.018953</td>\n",
       "      <td>-0.039318</td>\n",
       "      <td>1.000000</td>\n",
       "      <td>0.004376</td>\n",
       "      <td>-0.009123</td>\n",
       "      <td>0.003095</td>\n",
       "    </tr>\n",
       "    <tr>\n",
       "      <th>Number of Open Complaints</th>\n",
       "      <td>0.007325</td>\n",
       "      <td>-0.032243</td>\n",
       "      <td>0.007163</td>\n",
       "      <td>-0.010350</td>\n",
       "      <td>0.002246</td>\n",
       "      <td>0.004376</td>\n",
       "      <td>1.000000</td>\n",
       "      <td>0.004098</td>\n",
       "      <td>-0.011379</td>\n",
       "    </tr>\n",
       "    <tr>\n",
       "      <th>Number of Policies</th>\n",
       "      <td>0.002319</td>\n",
       "      <td>0.016024</td>\n",
       "      <td>-0.009960</td>\n",
       "      <td>-0.020505</td>\n",
       "      <td>0.007678</td>\n",
       "      <td>-0.009123</td>\n",
       "      <td>0.004098</td>\n",
       "      <td>1.000000</td>\n",
       "      <td>-0.008923</td>\n",
       "    </tr>\n",
       "    <tr>\n",
       "      <th>Total Claim Amount</th>\n",
       "      <td>-0.000593</td>\n",
       "      <td>0.232626</td>\n",
       "      <td>-0.354141</td>\n",
       "      <td>0.631799</td>\n",
       "      <td>0.013137</td>\n",
       "      <td>0.003095</td>\n",
       "      <td>-0.011379</td>\n",
       "      <td>-0.008923</td>\n",
       "      <td>1.000000</td>\n",
       "    </tr>\n",
       "  </tbody>\n",
       "</table>\n",
       "</div>"
      ],
      "text/plain": [
       "                               Unnamed: 0  Customer Lifetime Value    Income  \\\n",
       "Unnamed: 0                       1.000000                 0.001355  0.008910   \n",
       "Customer Lifetime Value          0.001355                 1.000000  0.028306   \n",
       "Income                           0.008910                 0.028306  1.000000   \n",
       "Monthly Premium Auto             0.000863                 0.403069 -0.009788   \n",
       "Months Since Last Claim          0.007958                 0.016052 -0.023814   \n",
       "Months Since Policy Inception    0.012795                 0.016960 -0.005903   \n",
       "Number of Open Complaints        0.007325                -0.032243  0.007163   \n",
       "Number of Policies               0.002319                 0.016024 -0.009960   \n",
       "Total Claim Amount              -0.000593                 0.232626 -0.354141   \n",
       "\n",
       "                               Monthly Premium Auto  Months Since Last Claim  \\\n",
       "Unnamed: 0                                 0.000863                 0.007958   \n",
       "Customer Lifetime Value                    0.403069                 0.016052   \n",
       "Income                                    -0.009788                -0.023814   \n",
       "Monthly Premium Auto                       1.000000                 0.008744   \n",
       "Months Since Last Claim                    0.008744                 1.000000   \n",
       "Months Since Policy Inception              0.018953                -0.039318   \n",
       "Number of Open Complaints                 -0.010350                 0.002246   \n",
       "Number of Policies                        -0.020505                 0.007678   \n",
       "Total Claim Amount                         0.631799                 0.013137   \n",
       "\n",
       "                               Months Since Policy Inception  \\\n",
       "Unnamed: 0                                          0.012795   \n",
       "Customer Lifetime Value                             0.016960   \n",
       "Income                                             -0.005903   \n",
       "Monthly Premium Auto                                0.018953   \n",
       "Months Since Last Claim                            -0.039318   \n",
       "Months Since Policy Inception                       1.000000   \n",
       "Number of Open Complaints                           0.004376   \n",
       "Number of Policies                                 -0.009123   \n",
       "Total Claim Amount                                  0.003095   \n",
       "\n",
       "                               Number of Open Complaints  Number of Policies  \\\n",
       "Unnamed: 0                                      0.007325            0.002319   \n",
       "Customer Lifetime Value                        -0.032243            0.016024   \n",
       "Income                                          0.007163           -0.009960   \n",
       "Monthly Premium Auto                           -0.010350           -0.020505   \n",
       "Months Since Last Claim                         0.002246            0.007678   \n",
       "Months Since Policy Inception                   0.004376           -0.009123   \n",
       "Number of Open Complaints                       1.000000            0.004098   \n",
       "Number of Policies                              0.004098            1.000000   \n",
       "Total Claim Amount                             -0.011379           -0.008923   \n",
       "\n",
       "                               Total Claim Amount  \n",
       "Unnamed: 0                              -0.000593  \n",
       "Customer Lifetime Value                  0.232626  \n",
       "Income                                  -0.354141  \n",
       "Monthly Premium Auto                     0.631799  \n",
       "Months Since Last Claim                  0.013137  \n",
       "Months Since Policy Inception            0.003095  \n",
       "Number of Open Complaints               -0.011379  \n",
       "Number of Policies                      -0.008923  \n",
       "Total Claim Amount                       1.000000  "
      ]
     },
     "execution_count": 7,
     "metadata": {},
     "output_type": "execute_result"
    }
   ],
   "source": [
    "marketing_df.corr()"
   ]
  },
  {
   "cell_type": "code",
   "execution_count": 10,
   "id": "b5a3e904",
   "metadata": {},
   "outputs": [
    {
     "data": {
      "text/plain": [
       "<AxesSubplot:>"
      ]
     },
     "execution_count": 10,
     "metadata": {},
     "output_type": "execute_result"
    }
   ],
   "source": [
    "sns.heatmap(marketing_df.corr())"
   ]
  },
  {
   "cell_type": "code",
   "execution_count": 11,
   "id": "0fae9c70",
   "metadata": {},
   "outputs": [
    {
     "data": {
      "text/plain": [
       "Text(0.5, 1.0, 'Correlation Heatmap')"
      ]
     },
     "execution_count": 11,
     "metadata": {},
     "output_type": "execute_result"
    }
   ],
   "source": [
    "# Increase the size of the heatmap.\n",
    "\n",
    "plt.figure(figsize=(16, 6))\n",
    "\n",
    "# Store heatmap object in a variable to easily access it when you want to include more features (such as title).\n",
    "# Set the range of values to be displayed on the colormap from -1 to 1, \n",
    "# and set the annotation to True to display the correlation values on the heatmap.\n",
    "\n",
    "heatmap = sns.heatmap(marketing_df.corr(), vmin=-1, vmax=1, annot=True)\n",
    "\n",
    "# Give a title to the heatmap. Pad defines the distance of the title from the top of the heatmap.\n",
    "\n",
    "heatmap.set_title('Correlation Heatmap', fontdict={'fontsize':12}, pad=12)"
   ]
  },
  {
   "cell_type": "code",
   "execution_count": 16,
   "id": "a3d308ec",
   "metadata": {},
   "outputs": [
    {
     "data": {
      "image/png": "[encoded data removed]",
      "text/plain": [
       "<Figure size 1600x600 with 2 Axes>"
      ]
     },
     "metadata": {},
     "output_type": "display_data"
    }
   ],
   "source": [
    "plt.figure(figsize=(16, 6))\n",
    "heatmap = sns.heatmap(marketing_df.corr(), vmin=-1, vmax=1, annot=True, cmap='BrBG')\n",
    "heatmap.set_title('Correlation Heatmap', fontdict={'fontsize':8}, pad=12)\n",
    "\n",
    "# save heatmap as .png file\n",
    "# dpi - sets the resolution of the saved image in dots/inches\n",
    "# bbox_inches - when set to 'tight' - does not allow the labels to be cropped.\n",
    "\n",
    "plt.savefig('heatmap.png', dpi=300, bbox_inches='tight')\n",
    "plt.show()"
   ]
  },
  {
   "cell_type": "markdown",
   "id": "9bdd4058",
   "metadata": {},
   "source": [
    "### Clean your notebook and make it a readible and presentable with a good documentation that summarizes the Data Cleaning, Exploration Steps that you have performed."
   ]
  },
  {
   "cell_type": "code",
   "execution_count": null,
   "id": "ad5f877b",
   "metadata": {},
   "outputs": [],
   "source": [
    "### Form follows function: I will do that on the weekend after (hopefully) having understood better what I am doing."
   ]
  }
 ],
 "metadata": {
  "kernelspec": {
   "display_name": "Python 3",
   "language": "python",
   "name": "python3"
  },
  "language_info": {
   "codemirror_mode": {
    "name": "ipython",
    "version": 3
   },
   "file_extension": ".py",
   "mimetype": "text/x-python",
   "name": "python",
   "nbconvert_exporter": "python",
   "pygments_lexer": "ipython3",
   "version": "3.9.6"
  }
 },
 "nbformat": 4,
 "nbformat_minor": 5
}
