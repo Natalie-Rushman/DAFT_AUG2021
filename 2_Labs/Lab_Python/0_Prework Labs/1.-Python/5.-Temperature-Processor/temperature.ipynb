{
 "cells": [
  {
   "cell_type": "markdown",
   "metadata": {},
   "source": [
    "<img src=\"https://bit.ly/2VnXWr2\" width=\"100\" align=\"left\">"
   ]
  },
  {
   "cell_type": "markdown",
   "metadata": {},
   "source": [
    "# Temperature Sensor\n",
    "\n",
    "There is a temperature sensor in the processor of your company's server. The company wants to analyze the data provided by the sensor to decide if they should change the cooling system for a better one. As changing the cooling system is expensive and you are an excellent data analyst, you can't make a decision without basis.\n",
    "\n",
    "## Tools\n",
    "You don't necessarily need to use all the tools. Maybe you opt to use some of them or completely different ones, they are given to help you shape the exercise. Programming exercises can be solved in many different ways.\n",
    "1. Data structures: **lists**\n",
    "2. Loops: **list comprehension**\n",
    "3. Functions: **min, max, print, len**\n",
    "4. Conditional statements: **if-elif-else**\n",
    "\n",
    "## Tasks\n",
    "The temperatures measured throughout the 24 hours of a day are:"
   ]
  },
  {
   "cell_type": "code",
   "execution_count": 2,
   "metadata": {},
   "outputs": [],
   "source": [
    "temperatures_C = [33, 66, 65, 0, 59, 60, 62, 64, 70, 76, 80, 81, 80, 83, 90, 79, 61, 53, 50, 49, 53, 48, 45, 39]"
   ]
  },
  {
   "cell_type": "markdown",
   "metadata": {},
   "source": [
    "The first element of the list is the temperature at 12am, the second element is the temperature at 1am, and so on. \n",
    "\n",
    "The company has decided that if one of the following events occurs, then the cooling system needs to be replaced for a new one to avoid damaging the processor.\n",
    "* More than 4 temperatures are greater than or equal to 70ºC.\n",
    "* Any temperature is above 80ºC.\n",
    "* The average temperature exceeds 65ºC.\n",
    "\n",
    "Follow the steps so that you can make the decision.\n",
    "\n",
    "#### 1. Find the minimum temperature of the day and store it in a variable."
   ]
  },
  {
   "cell_type": "code",
   "execution_count": 3,
   "metadata": {},
   "outputs": [
    {
     "data": {
      "text/plain": [
       "0"
      ]
     },
     "execution_count": 3,
     "metadata": {},
     "output_type": "execute_result"
    }
   ],
   "source": [
    "temperatures_C = [33, 66, 65, 0, 59, 60, 62, 64, 70, 76, 80, 81, 80, 83, 90, 79, 61, 53, 50, 49, 53, 48, 45, 39]\n",
    "min_temperature = min(temperatures_C)\n",
    "min(temperatures_C)"
   ]
  },
  {
   "cell_type": "markdown",
   "metadata": {},
   "source": [
    "#### 2. Find the maximum temperature of the day and store it in a variable."
   ]
  },
  {
   "cell_type": "code",
   "execution_count": 4,
   "metadata": {},
   "outputs": [
    {
     "data": {
      "text/plain": [
       "90"
      ]
     },
     "execution_count": 4,
     "metadata": {},
     "output_type": "execute_result"
    }
   ],
   "source": [
    "max_temperature = max(temperatures_C)\n",
    "max(temperatures_C)"
   ]
  },
  {
   "cell_type": "markdown",
   "metadata": {},
   "source": [
    "#### 3. Create a list with the temperatures that are greater than or equal to 70ºC. Store it in a variable."
   ]
  },
  {
   "cell_type": "code",
   "execution_count": 5,
   "metadata": {},
   "outputs": [
    {
     "name": "stdout",
     "output_type": "stream",
     "text": [
      "[76, 80, 81, 80, 83, 90, 79]\n"
     ]
    }
   ],
   "source": [
    "temperatures_C = [33, 66, 65, 0, 59, 60, 62, 64, 70, 76, 80, 81, 80, 83, 90, 79, 61, 53, 50, 49, 53, 48, 45, 39]\n",
    "only_min_70 = []\n",
    "    \n",
    "for temp in temperatures_C:\n",
    "    if temp > 70: \n",
    "        only_min_70.append(temp)\n",
    "\n",
    "print(only_min_70)"
   ]
  },
  {
   "cell_type": "markdown",
   "metadata": {},
   "source": [
    "#### 4. Find the average temperature of the day and store it in a variable."
   ]
  },
  {
   "cell_type": "code",
   "execution_count": 8,
   "metadata": {},
   "outputs": [
    {
     "data": {
      "text/plain": [
       "60.25"
      ]
     },
     "execution_count": 8,
     "metadata": {},
     "output_type": "execute_result"
    }
   ],
   "source": [
    "average_temp = sum(temperatures_C)/len(temperatures_C)\n",
    "average_temp"
   ]
  },
  {
   "cell_type": "markdown",
   "metadata": {},
   "source": [
    "#### 5. Imagine that there was a sensor failure at 3am and the data for that specific hour was not recorded. How would you estimate the missing value? Replace the current value of the list at 3am for an estimation. "
   ]
  },
  {
   "cell_type": "code",
   "execution_count": 7,
   "metadata": {},
   "outputs": [
    {
     "name": "stdout",
     "output_type": "stream",
     "text": [
      "Replace the value at 3a.m.:\n",
      "[33, 66, 65, 60.25, 59, 60, 62, 64, 70, 76, 80, 81, 80, 83, 90, 79, 61, 53, 50, 49, 53, 48, 45, 39]\n",
      "Replace null values:\n",
      "[33, 66, 65, 60.25, 59, 60, 62, 64, 70, 76, 80, 81, 80, 83, 90, 79, 61, 53, 50, 49, 53, 48, 45, 39]\n"
     ]
    }
   ],
   "source": [
    "temperatures_C = [33, 66, 65, 0, 59, 60, 62, 64, 70, 76, 80, 81, 80, 83, 90, 79, 61, 53, 50, 49, 53, 48, 45, 39]\n",
    "average_temp = sum(temperatures_C)/len(temperatures_C)\n",
    "\n",
    "# In case we know that the sensor failure occurred at 3a.m. (the 4th registered value of the day)\n",
    "temperatures_C[3] = average_temp\n",
    "print(\"Replace the value at 3a.m.:\")\n",
    "print(temperatures_C)\n",
    "\n",
    "# In case we have to check for the missing data.\n",
    "value = 0\n",
    "replaced_values = [average_temp if value == 0 else value for value in temperatures_C]\n",
    "print(\"Replace null values:\")\n",
    "print(replaced_values)\n",
    "\n",
    "# I haven't (yet) managed to calculate the mean in range(2:4). This would seem more appropriate."
   ]
  },
  {
   "cell_type": "markdown",
   "metadata": {},
   "source": [
    "#### 6. Bonus: the maintenance staff is from the United States and does not understand the international metric system. Help them by converting the temperatures from Celsius to Fahrenheit.\n",
    "To know more about temperature conversion check this [link](https://en.wikipedia.org/wiki/Conversion_of_units_of_temperature).\n",
    "\n",
    "**Formula**: \n",
    "\n",
    "$F = 1.8 * C + 32$"
   ]
  },
  {
   "cell_type": "code",
   "execution_count": null,
   "metadata": {},
   "outputs": [],
   "source": []
  },
  {
   "cell_type": "markdown",
   "metadata": {},
   "source": [
    "#### 7. Make a decision!\n",
    "Now it's time to make a decision taking into account what you have seen until now. \n",
    "\n",
    "Remember that if one of the following events occurs, then the cooling system needs to be replaced for a new one to avoid damaging the processor.\n",
    "* More than 4 temperatures are greater than or equal to 70ºC.\n",
    "* Any temperature is above 80ºC.\n",
    "* The average temperature exceeds 65ºC.\n",
    "\n",
    "#### To make your decision, check if any of the three conditions above is met. You might need to use some of the variables you created in steps 1 to 6. Print a message to show if the cooling system needs to be changed or not."
   ]
  },
  {
   "cell_type": "code",
   "execution_count": 8,
   "metadata": {},
   "outputs": [
    {
     "name": "stdout",
     "output_type": "stream",
     "text": [
      "The temperature is 33 degrees.\n",
      "There is no need to start the cooling system.\n",
      "The temperature is 66 degrees.\n",
      "The temperature exceeds the average temperature: Cooling system needs to start.\n",
      "The temperature is 65 degrees.\n",
      "The temperature exceeds the average temperature: Cooling system needs to start.\n",
      "The temperature is 0 degrees.\n",
      "There is no need to start the cooling system.\n",
      "The temperature is 59 degrees.\n",
      "There is no need to start the cooling system.\n",
      "The temperature is 60 degrees.\n",
      "There is no need to start the cooling system.\n",
      "The temperature is 62 degrees.\n",
      "The temperature exceeds the average temperature: Cooling system needs to start.\n",
      "The temperature is 64 degrees.\n",
      "The temperature exceeds the average temperature: Cooling system needs to start.\n",
      "The temperature is 70 degrees.\n",
      "The temperature exceeds the average temperature: Cooling system needs to start.\n",
      "The temperature is 76 degrees.\n",
      "The temperature exceeds the average temperature: Cooling system needs to start.\n",
      "The temperature is 80 degrees.\n",
      "The temperature exceeds the average temperature: Cooling system needs to start.\n",
      "The temperature is 81 degrees.\n",
      "The temperature exceeds the average temperature: Cooling system needs to start.\n",
      "The temperature is 80 degrees.\n",
      "The temperature exceeds the average temperature: Cooling system needs to start.\n",
      "The temperature is 83 degrees.\n",
      "The temperature exceeds the average temperature: Cooling system needs to start.\n",
      "The temperature is 90 degrees.\n",
      "The temperature exceeds the average temperature: Cooling system needs to start.\n",
      "The temperature is 79 degrees.\n",
      "The temperature exceeds the average temperature: Cooling system needs to start.\n",
      "The temperature is 61 degrees.\n",
      "The temperature exceeds the average temperature: Cooling system needs to start.\n",
      "The temperature is 53 degrees.\n",
      "There is no need to start the cooling system.\n",
      "The temperature is 50 degrees.\n",
      "There is no need to start the cooling system.\n",
      "The temperature is 49 degrees.\n",
      "There is no need to start the cooling system.\n",
      "The temperature is 53 degrees.\n",
      "There is no need to start the cooling system.\n",
      "The temperature is 48 degrees.\n",
      "There is no need to start the cooling system.\n",
      "The temperature is 45 degrees.\n",
      "There is no need to start the cooling system.\n",
      "The temperature is 39 degrees.\n",
      "There is no need to start the cooling system.\n"
     ]
    }
   ],
   "source": [
    "# The approach doesn't seem to fit the expectation of the task, bit the request isn't totally clear, either.\n",
    "\n",
    "temperatures_C = [33, 66, 65, 0, 59, 60, 62, 64, 70, 76, 80, 81, 80, 83, 90, 79, 61, 53, 50, 49, 53, 48, 45, 39]\n",
    "only_min_70 = []\n",
    "temp = 0\n",
    "test = 0\n",
    "    \n",
    "for temp in temperatures_C:\n",
    "    if temp >= 70: \n",
    "        only_min_70.append(temp)\n",
    "\n",
    "average_temp = sum(temperatures_C)/len(temperatures_C)\n",
    "        \n",
    "for temp in temperatures_C:\n",
    "    print(\"The temperature is\", temp, \"degrees.\")\n",
    "    if temp > average_temp:\n",
    "        print(\"The temperature exceeds the average temperature: Cooling system needs to start.\")\n",
    "    elif temp > 80:\n",
    "        print(\"More than 80 degrees: Cooling system needs to start.\")\n",
    "    elif len(only_min_70) > 4 and temp >= 70:\n",
    "        print(\"More than 4 tests over 70 degrees: Cooling system needs to start.\")\n",
    "    else:\n",
    "        print(\"There is no need to start the cooling system.\")"
   ]
  },
  {
   "cell_type": "markdown",
   "metadata": {},
   "source": [
    "## Bonus\n",
    "\n",
    "The company has decided that the decision you made is not valid. They want you to analyze the data again but this time, the conditions that need to be met in order to change the cooling system are different.\n",
    "\n",
    "This time, if one of the following events occurs, then the cooling system needs to be replaced:\n",
    "* The temperature is greater than 70ºC during more than 4 consecutive hours.\n",
    "* Any temperature is above 80ºC.\n",
    "* The average temperature exceeds 65ºC.\n",
    "\n",
    "Follow the steps so that you can make the decision.\n",
    "\n",
    "#### 1. Create a list with the hours where the temperature is greater than 70ºC. Store it in a variable."
   ]
  },
  {
   "cell_type": "code",
   "execution_count": 9,
   "metadata": {},
   "outputs": [
    {
     "name": "stdout",
     "output_type": "stream",
     "text": [
      "[8, 9, 10, 11, 12, 13, 14, 15]\n"
     ]
    }
   ],
   "source": [
    "## general hint: working with list comprehension\n",
    "## list_with_temperatures = []\n",
    "## list_with_temperatures.append(temperatures_C > 70)\n",
    "## enumerate() to get a counter and the value from the iterable at the same time\n",
    "\n",
    "hours_min_70 = [index for index,temp in enumerate(temperatures_C) if temp >= 70]\n",
    "print(hours_min_70)"
   ]
  },
  {
   "cell_type": "markdown",
   "metadata": {},
   "source": [
    "#### 2. Check if the list you created in step 1 has more than 4 consecutive hours. "
   ]
  },
  {
   "cell_type": "code",
   "execution_count": 11,
   "metadata": {},
   "outputs": [
    {
     "ename": "NameError",
     "evalue": "name 'index_min_70' is not defined",
     "output_type": "error",
     "traceback": [
      "\u001b[0;31m---------------------------------------------------------------------------\u001b[0m",
      "\u001b[0;31mNameError\u001b[0m                                 Traceback (most recent call last)",
      "\u001b[0;32m<ipython-input-11-e672aac04779>\u001b[0m in \u001b[0;36m<module>\u001b[0;34m\u001b[0m\n\u001b[1;32m      4\u001b[0m \u001b[0;32mfor\u001b[0m \u001b[0mindex\u001b[0m\u001b[0;34m,\u001b[0m\u001b[0mtemp\u001b[0m \u001b[0;32min\u001b[0m \u001b[0menumerate\u001b[0m\u001b[0;34m(\u001b[0m\u001b[0mhours_min_70\u001b[0m\u001b[0;34m)\u001b[0m\u001b[0;34m:\u001b[0m\u001b[0;34m\u001b[0m\u001b[0;34m\u001b[0m\u001b[0m\n\u001b[1;32m      5\u001b[0m     \u001b[0;32mif\u001b[0m \u001b[0;34m(\u001b[0m\u001b[0mindex\u001b[0m \u001b[0;34m!=\u001b[0m \u001b[0mlen\u001b[0m\u001b[0;34m(\u001b[0m\u001b[0mhours_min_70\u001b[0m\u001b[0;34m)\u001b[0m \u001b[0;34m-\u001b[0m\u001b[0;36m1\u001b[0m\u001b[0;34m)\u001b[0m\u001b[0;34m:\u001b[0m\u001b[0;34m\u001b[0m\u001b[0;34m\u001b[0m\u001b[0m\n\u001b[0;32m----> 6\u001b[0;31m         \u001b[0;32mif\u001b[0m \u001b[0;34m(\u001b[0m\u001b[0mhours_min_70\u001b[0m\u001b[0;34m[\u001b[0m\u001b[0mindex_min_70\u001b[0m\u001b[0;34m]\u001b[0m \u001b[0;34m==\u001b[0m \u001b[0mhours_min_70\u001b[0m\u001b[0;34m[\u001b[0m\u001b[0mindex\u001b[0m\u001b[0;34m+\u001b[0m\u001b[0;36m1\u001b[0m\u001b[0;34m]\u001b[0m\u001b[0;34m-\u001b[0m\u001b[0;36m1\u001b[0m\u001b[0;34m)\u001b[0m\u001b[0;34m:\u001b[0m\u001b[0;34m\u001b[0m\u001b[0;34m\u001b[0m\u001b[0m\n\u001b[0m\u001b[1;32m      7\u001b[0m             \u001b[0;31m#print(num_consecutive_hours)\u001b[0m\u001b[0;34m\u001b[0m\u001b[0;34m\u001b[0m\u001b[0;34m\u001b[0m\u001b[0m\n\u001b[1;32m      8\u001b[0m             \u001b[0mconsecutive_hours\u001b[0m \u001b[0;34m=\u001b[0m \u001b[0mconsecutive_hours\u001b[0m \u001b[0;34m+\u001b[0m \u001b[0;36m1\u001b[0m\u001b[0;34m\u001b[0m\u001b[0;34m\u001b[0m\u001b[0m\n",
      "\u001b[0;31mNameError\u001b[0m: name 'index_min_70' is not defined"
     ]
    }
   ],
   "source": [
    "consecutive_hours = 0\n",
    "first_criteria_met = False\n",
    "\n",
    "for index,temp in enumerate(hours_min_70):\n",
    "    if (index != len(hours_min_70) -1):\n",
    "        if (hours_min_70[index_min_70] == hours_min_70[index+1]-1):\n",
    "            #print(num_consecutive_hours)\n",
    "            consecutive_hours = consecutive_hours + 1\n",
    "        else: \n",
    "            consecutive_hours = 0\n",
    "    \n",
    "    if (consecutive_hours == 4): \n",
    "        first_criteria_met = True\n",
    "        break\n",
    "\n",
    "first_criteria_met"
   ]
  },
  {
   "cell_type": "markdown",
   "metadata": {},
   "source": [
    "#### 3. Make the decision!\n",
    "To make your decision, check if any of the three conditions is met. Print a message to show if the cooling system needs to be changed or not."
   ]
  },
  {
   "cell_type": "code",
   "execution_count": 12,
   "metadata": {},
   "outputs": [
    {
     "name": "stdout",
     "output_type": "stream",
     "text": [
      "The cooling Systems needs to be changed!\n"
     ]
    }
   ],
   "source": [
    "if (first_criteria_met or max_temperature > 80 or avg_temperatrure > 65):\n",
    "    print(\"The cooling Systems needs to be changed!\")\n",
    "else:\n",
    "    print(\"The cooling Systems works just fine!\")  "
   ]
  },
  {
   "cell_type": "markdown",
   "metadata": {},
   "source": [
    "#### 4. Find the average value of the temperature lists (ºC and ºF). What is the relation between both average values?"
   ]
  },
  {
   "cell_type": "code",
   "execution_count": null,
   "metadata": {},
   "outputs": [],
   "source": []
  },
  {
   "cell_type": "markdown",
   "metadata": {},
   "source": [
    "#### 5. Find the standard deviation of the temperature lists (ºC and ºF). What is the relation between both standard deviations?"
   ]
  },
  {
   "cell_type": "code",
   "execution_count": null,
   "metadata": {},
   "outputs": [],
   "source": []
  }
 ],
 "metadata": {
  "kernelspec": {
   "display_name": "Python 3",
   "language": "python",
   "name": "python3"
  },
  "language_info": {
   "codemirror_mode": {
    "name": "ipython",
    "version": 3
   },
   "file_extension": ".py",
   "mimetype": "text/x-python",
   "name": "python",
   "nbconvert_exporter": "python",
   "pygments_lexer": "ipython3",
   "version": "3.9.6"
  }
 },
 "nbformat": 4,
 "nbformat_minor": 2
}
