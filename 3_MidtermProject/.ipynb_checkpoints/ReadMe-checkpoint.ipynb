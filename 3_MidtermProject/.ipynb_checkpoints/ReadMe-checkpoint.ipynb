{
 "cells": [
  {
   "cell_type": "markdown",
   "id": "c33900c1",
   "metadata": {},
   "source": [
    "# Midterm Project\n",
    "Ironhack Bootcamp in Data Analytics, August-October 2021\n",
    "\n",
    "I am going to explore and analyze a provided data set consisting of some 22.000 properties having been sold between May 2014 and May 2015 in the King County district in Washington, USA. What do these data tell us about supply and demand of houses in this area? Is the house's size the main feature to determine the price? Is it worthwhile to invest in renovations? Are there current trends or is a large property ground a determining factor to buy a house? Could some of these indicators help to estimate the development of the house prices in the future?\n",
    "\n",
    "## Data Cleaning with Pandas\n",
    "- checking for Null values and duplicates\n",
    "- checking for correct data types,\n",
    "- scaling the mentioned sizes in sqft to m2 for a better understanding in the European market,\n",
    "- reducing the data set to relevant information,\n",
    "- integrating smaller rooms (0.25, 0.5 or 0.75) as proper rooms,\n",
    "- renaming unclear names.\n",
    "\n",
    "## Querying with SQL\n",
    "Getting a better understanding of the provided data by drowing relationships such as the houses' prices to\n",
    "- the respective size,\n",
    "- the quality and age of the building,\n",
    "- the location of the houses.\n",
    "\n",
    "## Linear Regression\n",
    "A basic model to estimate the development of the pricing is going to be engineered, tested, validated and plotted.\n",
    "\n",
    "\n",
    "\n"
   ]
  }
 ],
 "metadata": {
  "kernelspec": {
   "display_name": "Python 3",
   "language": "python",
   "name": "python3"
  },
  "language_info": {
   "codemirror_mode": {
    "name": "ipython",
    "version": 3
   },
   "file_extension": ".py",
   "mimetype": "text/x-python",
   "name": "python",
   "nbconvert_exporter": "python",
   "pygments_lexer": "ipython3",
   "version": "3.9.6"
  }
 },
 "nbformat": 4,
 "nbformat_minor": 5
}
