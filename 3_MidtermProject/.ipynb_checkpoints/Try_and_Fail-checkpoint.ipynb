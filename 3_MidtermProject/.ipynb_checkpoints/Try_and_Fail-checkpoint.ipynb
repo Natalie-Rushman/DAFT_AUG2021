{
 "cells": [
  {
   "cell_type": "markdown",
   "id": "357c109c",
   "metadata": {},
   "source": [
    "# Try and Fail"
   ]
  },
  {
   "cell_type": "code",
   "execution_count": 126,
   "id": "a8137f44",
   "metadata": {},
   "outputs": [],
   "source": [
    "import pandas as pd\n",
    "import numpy as np"
   ]
  },
  {
   "cell_type": "code",
   "execution_count": 128,
   "id": "7ef2dfa3",
   "metadata": {},
   "outputs": [],
   "source": [
    "real_estate_df = pd.read_csv('Data_MidTermProject_Real-State-Regression.csv', sep=';')"
   ]
  },
  {
   "cell_type": "code",
   "execution_count": 129,
   "id": "9e2344cf",
   "metadata": {},
   "outputs": [
    {
     "data": {
      "text/html": [
       "<div>\n",
       "<style scoped>\n",
       "    .dataframe tbody tr th:only-of-type {\n",
       "        vertical-align: middle;\n",
       "    }\n",
       "\n",
       "    .dataframe tbody tr th {\n",
       "        vertical-align: top;\n",
       "    }\n",
       "\n",
       "    .dataframe thead th {\n",
       "        text-align: right;\n",
       "    }\n",
       "</style>\n",
       "<table border=\"1\" class=\"dataframe\">\n",
       "  <thead>\n",
       "    <tr style=\"text-align: right;\">\n",
       "      <th></th>\n",
       "      <th>id</th>\n",
       "      <th>date</th>\n",
       "      <th>bedrooms</th>\n",
       "      <th>bathrooms</th>\n",
       "      <th>sqft_living</th>\n",
       "      <th>sqft_lot</th>\n",
       "      <th>floors</th>\n",
       "      <th>waterfront</th>\n",
       "      <th>view</th>\n",
       "      <th>condition</th>\n",
       "      <th>...</th>\n",
       "      <th>sqft_above</th>\n",
       "      <th>sqft_basement</th>\n",
       "      <th>yr_built</th>\n",
       "      <th>yr_renovated</th>\n",
       "      <th>zipcode</th>\n",
       "      <th>lat</th>\n",
       "      <th>long</th>\n",
       "      <th>sqft_living15</th>\n",
       "      <th>sqft_lot15</th>\n",
       "      <th>price</th>\n",
       "    </tr>\n",
       "  </thead>\n",
       "  <tbody>\n",
       "    <tr>\n",
       "      <th>0</th>\n",
       "      <td>1225069038</td>\n",
       "      <td>05.05.14</td>\n",
       "      <td>7</td>\n",
       "      <td>8</td>\n",
       "      <td>13540</td>\n",
       "      <td>307752</td>\n",
       "      <td>3</td>\n",
       "      <td>0</td>\n",
       "      <td>4</td>\n",
       "      <td>3</td>\n",
       "      <td>...</td>\n",
       "      <td>9410</td>\n",
       "      <td>4130</td>\n",
       "      <td>1999</td>\n",
       "      <td>0</td>\n",
       "      <td>98053</td>\n",
       "      <td>47,6675</td>\n",
       "      <td>-121,986</td>\n",
       "      <td>4850</td>\n",
       "      <td>217800</td>\n",
       "      <td>2280000</td>\n",
       "    </tr>\n",
       "    <tr>\n",
       "      <th>1</th>\n",
       "      <td>6762700020</td>\n",
       "      <td>13.10.14</td>\n",
       "      <td>6</td>\n",
       "      <td>8</td>\n",
       "      <td>12050</td>\n",
       "      <td>27600</td>\n",
       "      <td>2,5</td>\n",
       "      <td>0</td>\n",
       "      <td>3</td>\n",
       "      <td>4</td>\n",
       "      <td>...</td>\n",
       "      <td>8570</td>\n",
       "      <td>3480</td>\n",
       "      <td>1910</td>\n",
       "      <td>1987</td>\n",
       "      <td>98102</td>\n",
       "      <td>47,6298</td>\n",
       "      <td>-122,323</td>\n",
       "      <td>3940</td>\n",
       "      <td>8800</td>\n",
       "      <td>7700000</td>\n",
       "    </tr>\n",
       "    <tr>\n",
       "      <th>2</th>\n",
       "      <td>9808700762</td>\n",
       "      <td>11.06.14</td>\n",
       "      <td>5</td>\n",
       "      <td>4,5</td>\n",
       "      <td>10040</td>\n",
       "      <td>37325</td>\n",
       "      <td>2</td>\n",
       "      <td>1</td>\n",
       "      <td>2</td>\n",
       "      <td>3</td>\n",
       "      <td>...</td>\n",
       "      <td>7680</td>\n",
       "      <td>2360</td>\n",
       "      <td>1940</td>\n",
       "      <td>2001</td>\n",
       "      <td>98004</td>\n",
       "      <td>47,65</td>\n",
       "      <td>-122,214</td>\n",
       "      <td>3930</td>\n",
       "      <td>25449</td>\n",
       "      <td>7060000</td>\n",
       "    </tr>\n",
       "    <tr>\n",
       "      <th>3</th>\n",
       "      <td>9208900037</td>\n",
       "      <td>19.09.14</td>\n",
       "      <td>6</td>\n",
       "      <td>7,75</td>\n",
       "      <td>9890</td>\n",
       "      <td>31374</td>\n",
       "      <td>2</td>\n",
       "      <td>0</td>\n",
       "      <td>4</td>\n",
       "      <td>3</td>\n",
       "      <td>...</td>\n",
       "      <td>8860</td>\n",
       "      <td>1030</td>\n",
       "      <td>2001</td>\n",
       "      <td>0</td>\n",
       "      <td>98039</td>\n",
       "      <td>47,6305</td>\n",
       "      <td>-122,24</td>\n",
       "      <td>4540</td>\n",
       "      <td>42730</td>\n",
       "      <td>6890000</td>\n",
       "    </tr>\n",
       "    <tr>\n",
       "      <th>4</th>\n",
       "      <td>1924059029</td>\n",
       "      <td>17.06.14</td>\n",
       "      <td>5</td>\n",
       "      <td>6,75</td>\n",
       "      <td>9640</td>\n",
       "      <td>13068</td>\n",
       "      <td>1</td>\n",
       "      <td>1</td>\n",
       "      <td>4</td>\n",
       "      <td>3</td>\n",
       "      <td>...</td>\n",
       "      <td>4820</td>\n",
       "      <td>4820</td>\n",
       "      <td>1983</td>\n",
       "      <td>2009</td>\n",
       "      <td>98040</td>\n",
       "      <td>47,557</td>\n",
       "      <td>-122,21</td>\n",
       "      <td>3270</td>\n",
       "      <td>10454</td>\n",
       "      <td>4670000</td>\n",
       "    </tr>\n",
       "  </tbody>\n",
       "</table>\n",
       "<p>5 rows × 21 columns</p>\n",
       "</div>"
      ],
      "text/plain": [
       "           id      date  bedrooms bathrooms  sqft_living  sqft_lot floors  \\\n",
       "0  1225069038  05.05.14         7         8        13540    307752      3   \n",
       "1  6762700020  13.10.14         6         8        12050     27600    2,5   \n",
       "2  9808700762  11.06.14         5       4,5        10040     37325      2   \n",
       "3  9208900037  19.09.14         6      7,75         9890     31374      2   \n",
       "4  1924059029  17.06.14         5      6,75         9640     13068      1   \n",
       "\n",
       "   waterfront  view  condition  ...  sqft_above  sqft_basement  yr_built  \\\n",
       "0           0     4          3  ...        9410           4130      1999   \n",
       "1           0     3          4  ...        8570           3480      1910   \n",
       "2           1     2          3  ...        7680           2360      1940   \n",
       "3           0     4          3  ...        8860           1030      2001   \n",
       "4           1     4          3  ...        4820           4820      1983   \n",
       "\n",
       "   yr_renovated  zipcode      lat      long sqft_living15  sqft_lot15    price  \n",
       "0             0    98053  47,6675  -121,986          4850      217800  2280000  \n",
       "1          1987    98102  47,6298  -122,323          3940        8800  7700000  \n",
       "2          2001    98004    47,65  -122,214          3930       25449  7060000  \n",
       "3             0    98039  47,6305   -122,24          4540       42730  6890000  \n",
       "4          2009    98040   47,557   -122,21          3270       10454  4670000  \n",
       "\n",
       "[5 rows x 21 columns]"
      ]
     },
     "execution_count": 129,
     "metadata": {},
     "output_type": "execute_result"
    }
   ],
   "source": [
    "real_estate_df.head()"
   ]
  },
  {
   "cell_type": "code",
   "execution_count": 130,
   "id": "ef0e169a",
   "metadata": {},
   "outputs": [],
   "source": [
    "real_estate_df['bathrooms'] = real_estate_df['bathrooms'].str.replace(',','.')"
   ]
  },
  {
   "cell_type": "code",
   "execution_count": 131,
   "id": "c3e29d07",
   "metadata": {},
   "outputs": [
    {
     "data": {
      "text/plain": [
       "0       8\n",
       "1       8\n",
       "2     4.5\n",
       "3    7.75\n",
       "4    6.75\n",
       "Name: bathrooms, dtype: object"
      ]
     },
     "execution_count": 131,
     "metadata": {},
     "output_type": "execute_result"
    }
   ],
   "source": [
    "real_estate_df['bathrooms'].head()"
   ]
  },
  {
   "cell_type": "code",
   "execution_count": 132,
   "id": "15cdc3ef",
   "metadata": {},
   "outputs": [],
   "source": [
    "real_estate_df['bathrooms']=real_estate_df['bathrooms'].astype(float)"
   ]
  },
  {
   "cell_type": "code",
   "execution_count": 150,
   "id": "1e9940da",
   "metadata": {},
   "outputs": [
    {
     "data": {
      "text/plain": [
       "0        8.0\n",
       "1        8.0\n",
       "2        4.0\n",
       "3        7.0\n",
       "4        6.0\n",
       "        ... \n",
       "21592    0.0\n",
       "21593    0.0\n",
       "21594    1.0\n",
       "21595    0.0\n",
       "21596    0.0\n",
       "Name: bathrooms, Length: 21597, dtype: float64"
      ]
     },
     "execution_count": 150,
     "metadata": {},
     "output_type": "execute_result"
    }
   ],
   "source": [
    "np.ceil(real_estate_df['bathrooms'])"
   ]
  },
  {
   "cell_type": "code",
   "execution_count": 144,
   "id": "525eb9a0",
   "metadata": {},
   "outputs": [
    {
     "data": {
      "text/plain": [
       "0    8\n",
       "1    8\n",
       "2    4\n",
       "3    7\n",
       "4    6\n",
       "Name: bathrooms, dtype: int64"
      ]
     },
     "execution_count": 144,
     "metadata": {},
     "output_type": "execute_result"
    }
   ],
   "source": [
    "real_estate_df['bathrooms'].head()"
   ]
  }
 ],
 "metadata": {
  "kernelspec": {
   "display_name": "Python 3",
   "language": "python",
   "name": "python3"
  },
  "language_info": {
   "codemirror_mode": {
    "name": "ipython",
    "version": 3
   },
   "file_extension": ".py",
   "mimetype": "text/x-python",
   "name": "python",
   "nbconvert_exporter": "python",
   "pygments_lexer": "ipython3",
   "version": "3.9.6"
  }
 },
 "nbformat": 4,
 "nbformat_minor": 5
}
