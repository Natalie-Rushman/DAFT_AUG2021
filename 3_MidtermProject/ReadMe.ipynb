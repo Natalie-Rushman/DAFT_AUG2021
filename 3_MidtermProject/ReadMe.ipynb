Midterm Project
Ironhack Bootcamp in Data Analytics, August-October 2021

I am going to explore and analyze the provided data set consisting of some 22.000 properties having been sold between May 2014 and May 2015 in the King County district in Washington, USA. For this, the following steps are planned to execute:
Data Cleaning with Pandas

    checking for correct data types,
    scaling the mentioned sizes in sqft to m2 for a better understanding in the European market,
    reducing the data set to relevant information,
    integrating smaller rooms (0.25, 0.5 or 0.75) as proper rooms,
    renaming unclear names.

Querying with SQL

Getting a better understanding of the provided data by drowing relationships such as the houses' prices to

    the respective size,
    the quality and age of the building,
    the environment.

Visualization with Tableau

What do these data tell us about supply and demand of houses in this area? Is the house's size the main feature to determine the price? Is it worthwhile to invest in renovations? Are there current trends regarding age and style of the house? Is a large property ground a determining factor to buy a house?
