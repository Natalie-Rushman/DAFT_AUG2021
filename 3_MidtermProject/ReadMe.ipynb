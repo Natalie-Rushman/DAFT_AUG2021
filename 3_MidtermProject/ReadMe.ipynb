{
 "cells": [
  {
   "cell_type": "markdown",
   "id": "d6ce01fc",
   "metadata": {},
   "source": [
    "# Midterm Project\n",
    "\n",
    "## Ironhack Bootcamp in Data Analytics, August-October 2021\n",
    "I am going to explore and analyze the provided data set consisting of some 22.000 properties having been sold between May 2014 and May 2015 presumably in a district in Washington, USA. For this, the following steps are planned to execute:\n",
    "\n",
    "### Data Cleaning with Pandas\n",
    "- checking for correct data types,\n",
    "- scaling the mentioned sizes in sqft to m2 for a better understanding in the European market,\n",
    "- reducing the data set to relevant information,\n",
    "- integrating smaller rooms (0.25, 0.5 or 0.75) as proper rooms,\n",
    "- renaming unclear names.\n",
    "\n",
    "### Querying with SQL\n",
    "Getting a better understanding of the provided data by drowing relationships such as the houses' prices to\n",
    "- the respective size,\n",
    "- the quality of the building,\n",
    "- the environment.\n",
    "\n",
    "### Plotting and Preprocessing in Python\n",
    "Insights from the SQL queries will be plotted in order to get a better idea, some preprocessing is planned:\n",
    "- correlations,\n",
    "- histograms,\n",
    "- distplots,\n",
    "- normalization,\n",
    "- transformation.\n",
    "\n",
    "## Visualization with Tableau\n",
    "A final dasboard to display the most intriguing insights would be lovely.\n",
    "\n",
    "NB: This is a beginner's first try-out."
   ]
  }
 ],
 "metadata": {
  "kernelspec": {
   "display_name": "Python 3",
   "language": "python",
   "name": "python3"
  },
  "language_info": {
   "codemirror_mode": {
    "name": "ipython",
    "version": 3
   },
   "file_extension": ".py",
   "mimetype": "text/x-python",
   "name": "python",
   "nbconvert_exporter": "python",
   "pygments_lexer": "ipython3",
   "version": "3.9.6"
  }
 },
 "nbformat": 4,
 "nbformat_minor": 5
}
