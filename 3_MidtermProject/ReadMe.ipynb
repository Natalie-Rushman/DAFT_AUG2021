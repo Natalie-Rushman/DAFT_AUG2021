{
 "cells": [
  {
   "cell_type": "markdown",
   "id": "f85c8c4f",
   "metadata": {},
   "source": [
    "# Midterm Project"
   ]
  },
  {
   "cell_type": "markdown",
   "id": "e4603182",
   "metadata": {},
   "source": [
    "## Ironhack Bootcamp in Data Analytics, August-October 2021"
   ]
  },
  {
   "cell_type": "markdown",
   "id": "4d75c463",
   "metadata": {},
   "source": [
    "I am going to explore and analyze the provided data set consisting of some 22.000 properties having been sold between May 2014 and May 2015 presumably in a district in Washington, USA. For this, the following steps are planned to execute:"
   ]
  },
  {
   "cell_type": "markdown",
   "id": "ea7bdb00",
   "metadata": {},
   "source": [
    "### Data Cleaning with Pandas\n",
    "- checking for correct data types\n",
    "- scaling the mentioned sizes in sqft to m2 for a better understanding in the European market\n",
    "- reducing the data set to relevant information\n",
    "- integrating smaller rooms (0.25, 0.5 or 0.75) as proper rooms\n",
    "- renaming unclear names"
   ]
  },
  {
   "cell_type": "markdown",
   "id": "53f2709f",
   "metadata": {},
   "source": [
    "### Querying with SQL\n",
    "Getting a better understanding of the provided data by drowing relationships such as the houses' prices to\n",
    "- the respective size\n",
    "- the quality of the building\n",
    "- the environment."
   ]
  },
  {
   "cell_type": "markdown",
   "id": "0883963d",
   "metadata": {},
   "source": [
    "### Plotting and Preprocessing in Python\n",
    "Insights from the SQL queries will be plotted in order to get a better idea, some preprocessing is planned:\n",
    "- correlations\n",
    "- histograms\n",
    "- distplots\n",
    "- normalization\n",
    "- transformation"
   ]
  },
  {
   "cell_type": "markdown",
   "id": "ce4be859",
   "metadata": {},
   "source": [
    "## Visualization with Tableau\n",
    "A final dasboard to display the most intriguing insights would be lovely."
   ]
  },
  {
   "cell_type": "markdown",
   "id": "dddd76c4",
   "metadata": {},
   "source": [
    "NB: This is a beginner's first try-out."
   ]
  },
  {
   "cell_type": "code",
   "execution_count": null,
   "id": "e5cf3908",
   "metadata": {},
   "outputs": [],
   "source": []
  },
  {
   "cell_type": "code",
   "execution_count": null,
   "id": "178afa8d",
   "metadata": {},
   "outputs": [],
   "source": []
  },
  {
   "cell_type": "code",
   "execution_count": null,
   "id": "a127d2e0",
   "metadata": {},
   "outputs": [],
   "source": []
  },
  {
   "cell_type": "code",
   "execution_count": null,
   "id": "a2487beb",
   "metadata": {},
   "outputs": [],
   "source": []
  },
  {
   "cell_type": "code",
   "execution_count": null,
   "id": "3dedd2ab",
   "metadata": {},
   "outputs": [],
   "source": []
  }
 ],
 "metadata": {
  "kernelspec": {
   "display_name": "Python 3",
   "language": "python",
   "name": "python3"
  },
  "language_info": {
   "codemirror_mode": {
    "name": "ipython",
    "version": 3
   },
   "file_extension": ".py",
   "mimetype": "text/x-python",
   "name": "python",
   "nbconvert_exporter": "python",
   "pygments_lexer": "ipython3",
   "version": "3.9.6"
  }
 },
 "nbformat": 4,
 "nbformat_minor": 5
}
